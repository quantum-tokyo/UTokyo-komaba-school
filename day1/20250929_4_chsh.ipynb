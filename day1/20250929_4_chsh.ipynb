{
 "cells": [
  {
   "cell_type": "markdown",
   "id": "30734ce9",
   "metadata": {},
   "source": [
    "IBM-UTokyo 量子コンピューティング・駒場スクール\n",
    "# CHSH 不等式\n",
    "\n",
    "Kifumi Numata, IBM Quantum, Sep 29 2025 </br>\n",
    "© 2025 International Business Machines Corporation\n",
    "\n",
    "このノートブックは、[IBM Quantum Documentation Tutorials](https://quantum.cloud.ibm.com/docs/en/tutorials) の [CHSH inequality](https://quantum.cloud.ibm.com/docs/en/tutorials/chsh-inequality) をもとにしています。"
   ]
  },
  {
   "cell_type": "markdown",
   "id": "6b41d6b3",
   "metadata": {},
   "source": [
    "*Usage estimate: Two minutes on ibm_kingston (NOTE: This is an estimate only. Your runtime might vary.)*\n",
    "\n",
    "## 背景\n",
    "\n",
    "このチュートリアルでは、量子コンピューター上で実験を実行し、Estimator primitive による CHSH 不等式の破れを実証します。\n",
    "\n",
    "CHSH 不等式は、著者の Clauser、Horne、Shimony、Holt にちなんで名付けられ、ベルの定理 (1969) を実験的に証明するために使用されます。この定理は、局所性を仮定した隠れた変数理論では量子力学におけるエンタングルメントの結果の一部を説明できないと主張しています。CHSH 不等式の破れは、量子力学が局所的な隠れた変数理論と互換性がないことを示すために使用されます。これは、量子力学の基礎を理解するための重要な実験です。\n",
    "\n",
    "2022年のノーベル物理学賞は、量子情報科学における先駆的な研究、特にベルの不等式の破れを実証したもつれた光子の実験により、Alain Aspect、John Clauser、Anton Zeilingerの3人に授与されました。"
   ]
  },
  {
   "cell_type": "markdown",
   "id": "6f5d9398-5aaa-4596-a554-61c923f0c2d2",
   "metadata": {},
   "source": [
    "## 要件\n",
    "このチュートリアルを開始する前に、以下がインストールされていることを確認してください。\n",
    "\n",
    "* Qiskit SDK 1.0 or later\n",
    "* Qiskit Runtime (`pip install qiskit-ibm-runtime`) 0.22 or later\n",
    "* Visualization support (`'qiskit[visualization]'`)\n"
   ]
  },
  {
   "cell_type": "markdown",
   "id": "66d5e2e2",
   "metadata": {},
   "source": [
    "## Step 1. 古典的な入力を量子問題にマッピングする\n"
   ]
  },
  {
   "cell_type": "markdown",
   "id": "36669708",
   "metadata": {},
   "source": [
    "この実験では、エンタングルメントペアを作成し、各量子ビットを 2 つの異なる基底で測定します。最初の量子ビットの基底に $A$ と $a$、2 番目の量子ビットの基底に $B$ と $b$ というラベルを付けます。これにより、CHSH 量 $S_1$ を計算できます。\n",
    "\n",
    "$$\n",
    "S_1 = A(B-b) + a(B+b).\n",
    "$$\n",
    "\n",
    "各観測値は $+1$ または $-1$ のいずれかです。明らかに、項 $B\\pm b$ の 1 つは $0$ でなければならず、もう 1 つは $\\pm 2$ でなければなりません。したがって、$S_1 = \\pm 2$ です。$S_1$ の平均値は次の不等式を満たしている必要があります。\n",
    "\n",
    "$$\n",
    "|\\langle S_1 \\rangle|\\leq 2.\n",
    "$$\n",
    "\n",
    "\n",
    "$S_1$ を $A$、$a$、$B$、$b$ で展開すると次のようになります。\n",
    "\n",
    "$$\n",
    "|\\langle S_1 \\rangle| = |\\langle AB \\rangle - \\langle Ab \\rangle + \\langle aB \\rangle + \\langle ab \\rangle| \\leq 2\n",
    "$$\n",
    "\n",
    "別のCHSH量$S_2$を定義することができます。\n",
    "\n",
    "$$\n",
    "S_2 = A(B+b) - a(B-b),\n",
    "$$\n",
    "\n",
    "これにより、別の不等式が生じます：\n",
    "\n",
    "$$\n",
    "|\\langle S_2 \\rangle| = |\\langle AB \\rangle + \\langle Ab \\rangle - \\langle aB \\rangle + \\langle ab \\rangle| \\leq 2\n",
    "$$\n",
    "\n",
    "量子力学が局所性を仮定した隠れた変数理論によって記述できる場合、前述の不等式は必ず成り立ちます。しかし、このノートブックで実証されているように、これらの不等式は量子コンピューターでは破られる可能性があります。したがって、量子力学は局所隠れ変数理論と互換性がありません。\n"
   ]
  },
  {
   "cell_type": "markdown",
   "id": "2033cfcd",
   "metadata": {},
   "source": [
    "さらに詳しい理論を学びたい場合は、John Watrous による[Entanglement in Action](https://learning.quantum-computing.ibm.com/course/basics-of-quantum-information/entanglement-in-action#the-chsh-game) をご覧ください。\n",
    "\n",
    "<iframe loading=\"lazy\" width=\"800\" height=\"450\" style=\"margin-top: 40px; margin-bottom: 40px;\" src=\"https://www.youtube.com/embed/GSsElSQgMbU?si=ZhRKJKHMLRq0g3E1&amp;start=2426\" title=\"YouTube video player\" frameborder=\"0\" allow=\"accelerometer; autoplay; clipboard-write; encrypted-media; gyroscope; picture-in-picture; web-share\" allowfullscreen></iframe>\n"
   ]
  },
  {
   "cell_type": "markdown",
   "id": "d4cec8d8",
   "metadata": {},
   "source": [
    "ベル状態 $|\\Phi^+\\rangle = \\frac{|00\\rangle + |11\\rangle}{\\sqrt{2}}$ を作成することにより、量子コンピューターの 2 つの量子ビット間のエンタングル ペアを作成します。Estimator primitive を使用すると、2 つの CHSH 量 $\\langle S_1\\rangle$ と $\\langle S_2\\rangle$ の期待値を計算するために必要な期待値 ($\\langle AB \\rangle、\\langle Ab \\rangle、\\langle aB \\rangle$、および $\\langle ab \\rangle$) を直接取得できます。Estimator primitive を導入する前は、測定結果から期待値を構築する必要がありました。\n",
    "\n",
    "2 番目の量子ビットを $Z$ 基底と $X$ 基底で測定します。1 番目の量子ビットも直交基底で測定されますが、2 番目の量子ビットに対する角度で測定されます。角度は $0$ から $2\\pi$ の間でスイープします。ご覧のとおり、Estimator primitive を使用すると、パラメーター化された回路の実行が非常に簡単になります。一連の CHSH 回路を作成するのではなく、測定角度を指定するパラメーターとそのパラメーターの一連の位相値を持つ 1 つの CHSH 回路を作成するだけで済みます。\n",
    "\n",
    "最後に、結果を分析し、測定角度に対してプロットします。特定の測定角度範囲では、CHSH 量の期待値が $|\\langle S_1\\rangle| > 2$ または $|\\langle S_2\\rangle| > 2$ であることがわかります。これは、CHSH 不等式が破れていることを示しています。\n"
   ]
  },
  {
   "cell_type": "markdown",
   "id": "9c7dcf81",
   "metadata": {},
   "source": [
    "### 設定\n"
   ]
  },
  {
   "cell_type": "code",
   "execution_count": null,
   "id": "376fdd5d-4879-4e98-930c-4c2419ca79b8",
   "metadata": {},
   "outputs": [],
   "source": [
    "# Google Colabで実行している方は以下の # を取り除いてインストールを実行してください\n",
    "\n",
    "#!pip install 'qiskit[visualization]' qiskit-ibm-runtime qiskit-aer"
   ]
  },
  {
   "cell_type": "code",
   "execution_count": null,
   "id": "53cb74e3",
   "metadata": {},
   "outputs": [],
   "source": [
    "# General\n",
    "\n",
    "\n",
    "# Qiskit imports\n",
    "\n",
    "\n",
    "\n",
    "# Qiskit Runtime imports\n",
    "from qiskit_ibm_runtime import QiskitRuntimeService\n",
    "\n",
    "\n",
    "# Plotting routines\n"
   ]
  },
  {
   "cell_type": "markdown",
   "id": "4dd8ff99-08f9-4e32-a942-6211012332b4",
   "metadata": {},
   "source": [
    "先程の演習と同じように、次のセルの `your_api_key` と `your_crn` を上書きして実行します。"
   ]
  },
  {
   "cell_type": "code",
   "execution_count": null,
   "id": "95232486-a2ab-43c6-939e-95949645e1cb",
   "metadata": {},
   "outputs": [],
   "source": [
    "from qiskit_ibm_runtime import QiskitRuntimeService\n",
    "\n",
    "your_api_key = \"deleteThisAndPasteYourAPIKeyHere\"\n",
    "your_crn = \"deleteThisAndPasteYourCRNHere\"\n",
    "\n",
    "service = QiskitRuntimeService.save_account(\n",
    "    channel=\"ibm_cloud\",\n",
    "    token=your_api_key, \n",
    "    instance=your_crn, \n",
    "    set_as_default=True, \n",
    "    overwrite=True,\n",
    ")"
   ]
  },
  {
   "cell_type": "code",
   "execution_count": null,
   "id": "16f323fb",
   "metadata": {},
   "outputs": [],
   "source": [
    "service = QiskitRuntimeService()\n",
    "service.backends()"
   ]
  },
  {
   "cell_type": "code",
   "execution_count": null,
   "id": "3727a6fd-8218-4bcf-8a95-5c41b4b0dee0",
   "metadata": {},
   "outputs": [],
   "source": [
    "# 使うデバイスを指定します\n",
    "backend = service.backend('ibm_brisbane') "
   ]
  },
  {
   "cell_type": "code",
   "execution_count": null,
   "id": "2d5bd67a-014c-4927-ab3f-150d5c1f2b7d",
   "metadata": {},
   "outputs": [],
   "source": [
    "#一番空いているバックエンドを自動的に選択することもできます\n",
    "backend = service.least_busy(operational=True)\n",
    "print(\"The least busy device is \", backend)"
   ]
  },
  {
   "cell_type": "markdown",
   "id": "1ab329f2",
   "metadata": {},
   "source": [
    "### パラメータ化されたCHSH回路を作成する\n",
    "\n",
    "\n",
    "\n",
    "まず、パラメータ $\\theta$（これを `theta` と呼ぶ）を使用して回路を記述します。[`Estimator` primitive](https://docs.quantum-computing.ibm.com/api/qiskit-ibm-runtime/qiskit_ibm_runtime.EstimatorV2) は、オブザーバブルの期待値を直接提供することで、回路の構築と出力分析を大幅に簡素化できます。特にノイズの多いシステムでの短期的なアプリケーションなど、多くの重要な問題は、期待値の観点から定式化できます`Estimator` (V2) primitiveは、提供されたオブザーバブルに基づいて測定基準を自動的に変更できます。\n"
   ]
  },
  {
   "cell_type": "code",
   "execution_count": null,
   "id": "6c77e40a",
   "metadata": {},
   "outputs": [],
   "source": [
    "from qiskit import QuantumCircuit\n",
    "from qiskit.circuit import Parameter\n",
    "\n",
    "theta = Parameter(\"$\\\\theta$\")\n",
    "\n",
    "chsh_circuit = QuantumCircuit(2)\n",
    "chsh_circuit.h(0)\n",
    "chsh_circuit.cx(0, 1)\n",
    "chsh_circuit.ry(theta, 0)\n",
    "chsh_circuit.draw(output=\"mpl\", idle_wires=False, style=\"iqp\")"
   ]
  },
  {
   "cell_type": "markdown",
   "id": "de760250",
   "metadata": {},
   "source": [
    "### 後に割り当てる位相の値のリストを作成する\n",
    "\n",
    "パラメーター化された CHSH 回路を作成したら、次のステップで回路に割り当てる位相の値のリストを作成します。次のコードを使用して、等間隔で $0$ から $2 \\pi$ の範囲の 11 個の位相値のリスト (つまり、$0$、$0.2 \\pi$、$0.4 \\pi$、...、$1.8 \\pi$、$2 \\pi$) を作成できます。\n"
   ]
  },
  {
   "cell_type": "code",
   "execution_count": null,
   "id": "bcb3b32b",
   "metadata": {},
   "outputs": [],
   "source": [
    "import numpy as np\n",
    "\n",
    "number_of_phases = 11\n",
    "phases = np.linspace(0, 2 * np.pi, number_of_phases)\n",
    "# Phases need to be expressed as list of lists in order to work\n",
    "individual_phases = [[ph] for ph in phases]"
   ]
  },
  {
   "cell_type": "markdown",
   "id": "6e559aed",
   "metadata": {},
   "source": [
    "### 演習 1. オブザーバブルの作成\n",
    "\n",
    "ここで、期待値を計算するためのオブザーバブルが必要です。今回の場合、各量子ビットの直交基底を調べ、最初の量子ビットのパラメータ化された $Y-$ 回転が、2 番目の量子ビット基底に関して測定基底をほぼ連続的にスイープできるようにします。したがって、オブザーバブル $ZZ$、$ZX$、$XZ$、および $XX$ を選択します。\n",
    "\n",
    "$|\\langle S_1\\rangle|$を求めるオブザーバブル`observable1`に習って、$|\\langle S_2\\rangle|$を求めるオブザーバブル`observable2`を作成してください。"
   ]
  },
  {
   "cell_type": "code",
   "execution_count": null,
   "id": "940fc1dc-89c5-4137-bea7-5e892dd7f36e",
   "metadata": {},
   "outputs": [],
   "source": [
    "from qiskit.quantum_info import SparsePauliOp\n",
    "\n",
    "# <CHSH1> = <AB> - <Ab> + <aB> + <ab> -> <ZZ> - <ZX> + <XZ> + <XX>\n",
    "observable1 = SparsePauliOp.from_list([(\"ZZ\", 1), (\"ZX\", -1), (\"XZ\", 1), (\"XX\", 1)])\n",
    "\n",
    "# <CHSH2> = <AB> + <Ab> - <aB> + <ab> -> <ZZ> + <ZX> - <XZ> + <XX>\n",
    "observable2 = "
   ]
  },
  {
   "cell_type": "markdown",
   "id": "efabedc4",
   "metadata": {},
   "source": [
    "## Step 2. 量子実行のために問題を最適化する\n"
   ]
  },
  {
   "cell_type": "markdown",
   "id": "4b2b4637-a2d4-41d6-a9c5-98fe3b8a2cd2",
   "metadata": {},
   "source": [
    "ジョブの合計実行時間を短縮するために、V2 primitives は、ターゲット システムでサポートされている命令と接続に準拠する回路とオブザーバブル (命令セットアーキテクチャ (ISA) 回路とISAオブザーバブルと呼ばれる) のみを受け入れます。"
   ]
  },
  {
   "cell_type": "markdown",
   "id": "5dcd3fea-3754-4c75-b11e-9216570336b7",
   "metadata": {},
   "source": [
    "### ISA 回路\n"
   ]
  },
  {
   "cell_type": "code",
   "execution_count": null,
   "id": "9a5561eb",
   "metadata": {},
   "outputs": [],
   "source": [
    "from qiskit.transpiler.preset_passmanagers import generate_preset_pass_manager\n",
    "\n",
    "target = backend.target\n",
    "pm = generate_preset_pass_manager(target=target, optimization_level=3)\n",
    "\n",
    "chsh_isa_circuit = pm.run(chsh_circuit)\n",
    "chsh_isa_circuit.draw(output=\"mpl\", idle_wires=False, style=\"iqp\")"
   ]
  },
  {
   "cell_type": "markdown",
   "id": "718759d4-f1d8-45c3-9142-c8404059a892",
   "metadata": {},
   "source": [
    "### ISA オブザーバブル\n"
   ]
  },
  {
   "cell_type": "markdown",
   "id": "76b721cc-7f45-4195-ae61-53d29e2bf8d4",
   "metadata": {},
   "source": [
    "同様に、[`Runtime Estimator V2`](https://docs.quantum.ibm.com/api/qiskit-ibm-runtime/qiskit_ibm_runtime.EstimatorV2#run) でジョブを実行する前に、オブザーバブルを変換してバックエンドと互換性を持たせる必要があります。変換は、`SparsePauliOp` オブジェクトの  `apply_layout` メソッドを使用して実行できます。\n",
    "\n"
   ]
  },
  {
   "cell_type": "code",
   "execution_count": null,
   "id": "a787d6f9-5df4-4e0b-b2f0-07948b882a94",
   "metadata": {},
   "outputs": [],
   "source": [
    "isa_observable1 = observable1.apply_layout(layout=chsh_isa_circuit.layout)\n",
    "isa_observable2 = observable2.apply_layout(layout=chsh_isa_circuit.layout)"
   ]
  },
  {
   "cell_type": "markdown",
   "id": "b7194399",
   "metadata": {},
   "source": [
    "## Step 3. Qiskit primitive を使用して実行する\n",
    "\n",
    "[`Estimator`](https://docs.quantum-computing.ibm.com/api/qiskit-ibm-runtime/qiskit_ibm_runtime.EstimatorV2) への 1 回の呼び出しで実験全体を実行します。"
   ]
  },
  {
   "cell_type": "markdown",
   "id": "2d8ad9e1",
   "metadata": {},
   "source": [
    "\n",
    "[Qiskit Runtime `Estimator`](https://docs.quantum.ibm.com/api/qiskit-ibm-runtime/qiskit_ibm_runtime.EstimatorV2) primitive を作成して、期待値を計算できます。 `EstimatorV2.run()` メソッドは、 `primitive unified blocs (PUBs)` の反復可能オブジェクトを受け取ります。各 PUB は、`(circuit, observables, parameter_values: Optional)` という形式の反復可能オブジェクトです。\n",
    "\n",
    "今回は実行時間節約のために $|\\langle S_1\\rangle|$ のみ実行します。"
   ]
  },
  {
   "cell_type": "code",
   "execution_count": null,
   "id": "e73db51f",
   "metadata": {},
   "outputs": [],
   "source": [
    "# To run on a local simulator:\n",
    "# Use the StatevectorEstimator from qiskit.primitives instead.\n",
    "from qiskit_ibm_runtime import EstimatorV2 as Estimator\n",
    "\n",
    "estimator = Estimator(mode=backend)\n",
    "\n",
    "pub = (\n",
    "    chsh_isa_circuit,  # ISA circuit\n",
    "    #[[isa_observable1], [isa_observable2]],  # ISA Observables\n",
    "    [isa_observable1],  # ISA Observables\n",
    "    individual_phases,  # Parameter values\n",
    ")\n",
    "\n",
    "job = estimator.run(pubs=[pub])\n",
    "print(\"job id:\", job.job_id()) "
   ]
  },
  {
   "cell_type": "code",
   "execution_count": null,
   "id": "c9894762-51a1-4cd0-bcdb-026c132b80ef",
   "metadata": {},
   "outputs": [],
   "source": [
    "# ジョブの実行状態を確認します\n",
    "job.status()"
   ]
  },
  {
   "cell_type": "code",
   "execution_count": null,
   "id": "9cafb959-6a78-448d-be61-7a437b19e14e",
   "metadata": {},
   "outputs": [],
   "source": [
    "# 待ち時間が長い時に後から結果を確認する場合\n",
    "\n",
    "from qiskit_ibm_runtime import QiskitRuntimeService\n",
    "service = QiskitRuntimeService() \n",
    "job = service.job('d3bnlsedacis73da6ngg') # 例です。上に出力された自分のjob_idを入れて実行してください。\n",
    "job.status()"
   ]
  },
  {
   "cell_type": "code",
   "execution_count": null,
   "id": "f7ff2564-3ec4-463b-8c99-f64d64d6f247",
   "metadata": {},
   "outputs": [],
   "source": [
    "# ジョブの実行状態を確認します\n",
    "job.status()"
   ]
  },
  {
   "cell_type": "code",
   "execution_count": null,
   "id": "723c16b0-9956-40a7-87ce-a024c59cdf7e",
   "metadata": {},
   "outputs": [],
   "source": [
    "### 'DONE' になってから実行します ###\n",
    "job_result = job.result()"
   ]
  },
  {
   "cell_type": "markdown",
   "id": "ace7dc90",
   "metadata": {},
   "source": [
    "## Step 4. 後処理を行い、結果を古典形式で返す\n",
    "\n",
    "Estimator は、オブザーバブルの両方の期待値、$\\langle ZZ \\rangle - \\langle ZX \\rangle + \\langle XZ \\rangle + \\langle XX \\rangle$ と $\\langle ZZ \\rangle + \\langle ZX \\rangle - \\langle XZ \\rangle + \\langle XX \\rangle$ を返します。\n",
    "\n",
    "### 演習 2. \n",
    "\n",
    "以下のコードを実行してCHSH式の期待値が$\\pm 2$を超えることを確認してください。"
   ]
  },
  {
   "cell_type": "code",
   "execution_count": null,
   "id": "947fc660-073b-4dee-b347-358fd3e52ea2",
   "metadata": {},
   "outputs": [],
   "source": [
    "chsh1_est = job_result[0].data.evs\n",
    "#chsh1_est = job_result[0].data.evs[0]\n",
    "#chsh2_est = job_result[0].data.evs[1]"
   ]
  },
  {
   "cell_type": "code",
   "execution_count": null,
   "id": "f6267448",
   "metadata": {},
   "outputs": [],
   "source": [
    "import matplotlib.pyplot as plt\n",
    "import matplotlib.ticker as tck\n",
    "\n",
    "fig, ax = plt.subplots(figsize=(10, 6))\n",
    "\n",
    "# results from hardware\n",
    "ax.plot(phases / np.pi, chsh1_est, \"o-\", label=\"CHSH1\", zorder=3)\n",
    "#ax.plot(phases / np.pi, chsh2_est, \"o-\", label=\"CHSH2\", zorder=3)\n",
    "\n",
    "# classical bound +-2\n",
    "ax.axhline(y=2, color=\"0.9\", linestyle=\"--\")\n",
    "ax.axhline(y=-2, color=\"0.9\", linestyle=\"--\")\n",
    "\n",
    "# quantum bound, +-2√2\n",
    "ax.axhline(y=np.sqrt(2) * 2, color=\"0.9\", linestyle=\"-.\")\n",
    "ax.axhline(y=-np.sqrt(2) * 2, color=\"0.9\", linestyle=\"-.\")\n",
    "ax.fill_between(phases / np.pi, 2, 2 * np.sqrt(2), color=\"0.6\", alpha=0.7)\n",
    "ax.fill_between(phases / np.pi, -2, -2 * np.sqrt(2), color=\"0.6\", alpha=0.7)\n",
    "\n",
    "# set x tick labels to the unit of pi\n",
    "ax.xaxis.set_major_formatter(tck.FormatStrFormatter(\"%g $\\\\pi$\"))\n",
    "ax.xaxis.set_major_locator(tck.MultipleLocator(base=0.5))\n",
    "\n",
    "# set labels, and legend\n",
    "plt.xlabel(\"Theta\")\n",
    "plt.ylabel(\"CHSH witness\")\n",
    "plt.legend()\n",
    "plt.show()"
   ]
  },
  {
   "cell_type": "markdown",
   "id": "63e63853",
   "metadata": {},
   "source": [
    "図では、線と灰色の領域が境界を区切っています。外側の (一点鎖線) 線は量子境界 ($\\pm 2\\sqrt{2}$) で、内側の (破線) 線は古典境界 ($\\pm 2$) を区切っています。CHSH の証拠となる量が古典境界を超える領域があることがわかります。おめでとうございます! 実際の量子システムで CHSH 不等式の破れを実証できました。"
   ]
  },
  {
   "cell_type": "code",
   "execution_count": null,
   "id": "3eaa8f60",
   "metadata": {},
   "outputs": [],
   "source": [
    "import qiskit_ibm_runtime\n",
    "\n",
    "qiskit_ibm_runtime.version.get_version_info()"
   ]
  },
  {
   "cell_type": "code",
   "execution_count": null,
   "id": "eb75a5c8",
   "metadata": {},
   "outputs": [],
   "source": [
    "import qiskit\n",
    "\n",
    "qiskit.version.get_version_info()"
   ]
  }
 ],
 "metadata": {
  "kernelspec": {
   "display_name": "Python 3 (ipykernel)",
   "language": "python",
   "name": "python3"
  },
  "language_info": {
   "codemirror_mode": {
    "name": "ipython",
    "version": 3
   },
   "file_extension": ".py",
   "mimetype": "text/x-python",
   "name": "python",
   "nbconvert_exporter": "python",
   "pygments_lexer": "ipython3",
   "version": "3.12.3"
  },
  "vscode": {
   "interpreter": {
    "hash": "1910f834ba40d1043b9ae723a4d216fb6c2faf55822807adca52e5ece8e3f1c8"
   }
  }
 },
 "nbformat": 4,
 "nbformat_minor": 5
}
