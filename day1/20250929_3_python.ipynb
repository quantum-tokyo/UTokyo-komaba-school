{
 "cells": [
  {
   "attachments": {},
   "cell_type": "markdown",
   "id": "b750f02a-0776-4abe-9449-5dc7b3f8e304",
   "metadata": {},
   "source": [
    "IBM-UTokyo 量子コンピューティング・駒場スクール\n",
    "# Python プログラミング入門\n",
    "\n",
    "Kifumi Numata, IBM Quantum, Sep 29 2025 </br>\n",
    "© 2025 International Business Machines Corporation"
   ]
  },
  {
   "cell_type": "markdown",
   "id": "672eb775-6a54-46b7-8b77-059f6f25a367",
   "metadata": {},
   "source": [
    "Pythonの基本の仕様：\n",
    "- 改行で命令分を区切る。\n",
    "- ブロック(範囲)をインデント(字下げ)で指定する。"
   ]
  },
  {
   "cell_type": "markdown",
   "id": "7b944f62-716c-4581-81a6-8b9df1f061a5",
   "metadata": {},
   "source": [
    "## 1. 計算して表示する\n",
    "- 値や文字列を入れる箱を変数と言い、ここでは `a`, `b`の二つの変数を作っている。\n",
    "- `=`の右側に書かれた数値や式の値が、左側の変数に代入される。\n",
    "- print関数は、カッコ内に指定された変数の中身や文字列を表示する命令である。\n",
    "- 文字列の場合は`'`または`\"`で囲む。"
   ]
  },
  {
   "cell_type": "markdown",
   "id": "10d32f1d-c102-498b-8606-e5aefcf1edfc",
   "metadata": {},
   "source": [
    "**セルを選択して「Shift」＋「Enter」で実行できます。**"
   ]
  },
  {
   "cell_type": "code",
   "execution_count": 4,
   "id": "d91677ac-601b-4dc7-881b-f15be91d83d3",
   "metadata": {},
   "outputs": [
    {
     "name": "stdout",
     "output_type": "stream",
     "text": [
      "5\n"
     ]
    }
   ],
   "source": [
    "a = 2            # aに2を代入\n",
    "b = 3            # bに3を代入\n",
    "print(a+b)       # a+bを表示"
   ]
  },
  {
   "cell_type": "markdown",
   "id": "3c970b92-2a0c-40c6-a5eb-8a2cfc49c4c1",
   "metadata": {},
   "source": [
    "## 2. 繰り返し表示する\n",
    "- 繰り返し処理を実行したい場合は、for文を用いる。`for 変数 in リスト` の形式で記述する。\n",
    "- リストの中身を1つずつ変数に代入しながら繰り返しの処理を行う。\n",
    "- range関数を使うと指定した数のリストを作ることができる。ここでは0から2が並ぶリストを作成する。\n",
    "- 繰り返したい処理の部分は、インデント(字下げ)する。\n",
    "- print関数で表示したい変数や文字列が複数ある場合は、`,` で区切って並べると複数表示できる。"
   ]
  },
  {
   "cell_type": "code",
   "execution_count": 24,
   "id": "3c6dc6d0-1011-43dd-8376-ff51edf5e639",
   "metadata": {},
   "outputs": [
    {
     "name": "stdout",
     "output_type": "stream",
     "text": [
      "Hello. 0\n",
      "Hello. 1\n",
      "Hello. 2\n"
     ]
    }
   ],
   "source": [
    "for num in range(3):              # 変数numを0から1ずつ増やしながら3未満の間を繰り返し\n",
    "    print('Hello.', num)          # Hello.と変数numを表示"
   ]
  },
  {
   "cell_type": "code",
   "execution_count": 25,
   "id": "c0336e25-b752-4014-a7e3-9750aff2914c",
   "metadata": {},
   "outputs": [
    {
     "name": "stdout",
     "output_type": "stream",
     "text": [
      "Hello. 0\n",
      "Hello. 1\n",
      "Hello. 2\n"
     ]
    }
   ],
   "source": [
    "num = 0                    # numに０を代入\n",
    "while num < 3:             # numが3未満の間、繰り返し\n",
    "    print('Hello.', num)   # Hello.と変数numを表示\n",
    "    num = num + 1          # numの値を1増やす"
   ]
  },
  {
   "cell_type": "markdown",
   "id": "24c928dd-d778-4c06-8388-5231bcbd791f",
   "metadata": {},
   "source": [
    "## 3. 条件分岐する\n",
    "- if文を使うと、条件を指定して実行する命令を分岐できる。\n",
    "- 複数に分岐したい場合は、 `elif` や `else` を組み合わせる。\n",
    "- 条件式の末尾には `:` をつけ、処理部分はインデント(字下げ)してブロック(範囲)にわかける。\n",
    "- ここでは、キーボードから入力された文字列が、`1`、`2`、`それ以外`という判別をしている。\n",
    "- input関数を使うと、キーボードから文字列の入力が可能になる。\n",
    "- input関数のカッコ内に文字列を指定すると、文字列を表示した後に入力を待つ状態になる。\n",
    "- ここでは入力された文字列を数値として扱うため、int関数を利用して整数に変換している。"
   ]
  },
  {
   "cell_type": "code",
   "execution_count": 9,
   "id": "844ddaed-2fc0-49d3-ba17-866a0a85db69",
   "metadata": {},
   "outputs": [
    {
     "name": "stdin",
     "output_type": "stream",
     "text": [
      "INPUT 1or2: 3\n"
     ]
    },
    {
     "name": "stdout",
     "output_type": "stream",
     "text": [
      "Another\n"
     ]
    }
   ],
   "source": [
    "a = int(input('INPUT 1or2:')) # 文字列「INPUT 1or2」を入力させ、整数化し、変数 a に代入する\n",
    "\n",
    "if a==1:                      # もしも、変数 a が数値 1 に等しいなら以下を実行する\n",
    "    print('Hello.')           # 文字列「Hello.」を表示する\n",
    "elif a ==2:                   # そうではなく、変数 a が数値 2 に等しいなら以下を実行する\n",
    "    print('Hi!')              # 文字列「Hi!」を表示する\n",
    "else:                         # そうでなければ、以下を実行する\n",
    "    print('Another')          # 文字列「Another」を表示する"
   ]
  },
  {
   "cell_type": "markdown",
   "id": "4091532b-45cc-48af-9078-9a409afac4e1",
   "metadata": {},
   "source": [
    "## 4. リストを使う"
   ]
  },
  {
   "cell_type": "code",
   "execution_count": 10,
   "id": "af9c3782-f048-44b7-a5cb-01bdc1901a7e",
   "metadata": {},
   "outputs": [
    {
     "name": "stdout",
     "output_type": "stream",
     "text": [
      "[5, 12, 7, 9, 5]\n",
      "9\n",
      "[5, 12, 7, 9, 5, 33]\n"
     ]
    }
   ],
   "source": [
    "a = [5, 12, 7, 9, 5]    # リスト a を作成\n",
    "print(a)                # リスト a 全体を表示\n",
    "print(a[3])             # リスト a の 3 番目の要素を表示\n",
    "a.append(33)            # リスト a に要素「33」を追加\n",
    "print(a)                # リスト a 全体を表示"
   ]
  },
  {
   "cell_type": "markdown",
   "id": "e34a9c7a-911b-45ef-8376-a4df12a703b8",
   "metadata": {},
   "source": [
    "<div class=\"alert alert-block alert-success\">\n",
    "    \n",
    "<b>Pythonのコマンドまとめ - その1</b>\n",
    "\n",
    "- `print( )`: ( )内を画面に表示する。\n",
    "- `range(値1, 値2)`: 値1以上値2未満の整数の並びを作る。値が1つの場合は0から値未満の整数の並びを作る。\n",
    "- `input( )`: キーボードに入力した値を取得する。(' ')内に入力した文字は、入力待ちの際に表示される。\n",
    "- `int( )`: 値を整数に変換する。\n",
    "- `append( )`: リストに要素を追加する。\n",
    "\n",
    "</div>"
   ]
  },
  {
   "cell_type": "markdown",
   "id": "e26a6b11-61c0-4277-a186-12415196fe8e",
   "metadata": {},
   "source": [
    "## 5. 合計と平均を求める"
   ]
  },
  {
   "cell_type": "code",
   "execution_count": 12,
   "id": "a9810927-6eef-48d9-a20d-6bfb4c34cc9d",
   "metadata": {},
   "outputs": [
    {
     "name": "stdout",
     "output_type": "stream",
     "text": [
      "goukei 15\n",
      "heikin 3.0\n"
     ]
    }
   ],
   "source": [
    "a = [1, 2, 3, 4, 5]         # リスト a を作成\n",
    "sum = 0                     # 変数 sum に 0 を代入\n",
    "\n",
    "for i in range(len(a)):     # 変数 i を 0 から 1 ずつ増やしながらリスト a の長さ未満まで繰り返し\n",
    "    sum = sum + a[i]        # sum にリストの i 番目の要素を足して sum に代入\n",
    "\n",
    "print('goukei', sum)        # goukei と変数 sum を表示\n",
    "print('heikin', sum/len(a)) # heikin と変数 sum をリストの長さで割った値を表示"
   ]
  },
  {
   "cell_type": "markdown",
   "id": "519cbb9c-eb69-48b4-af82-aa53b103bc21",
   "metadata": {},
   "source": [
    "## 6. 乱数の利用\n",
    "\n",
    "ある一定の範囲内で、全ての数が同じ確率で発生しているとき、それを**乱数**という。乱数を利用することによって、実行するたびに異なる値で処理が行われるため、シミュレーションなどに活用することができる。"
   ]
  },
  {
   "cell_type": "code",
   "execution_count": 17,
   "id": "9e163782-ea79-4b77-bfe5-b54af37b5a98",
   "metadata": {},
   "outputs": [
    {
     "name": "stdout",
     "output_type": "stream",
     "text": [
      "tyoki\n"
     ]
    }
   ],
   "source": [
    "# じゃんけんのプログラム\n",
    "import random                # random を利用できるようにする\n",
    "te = ['gu', 'tyoki', 'pa']   # リスト te を作成\n",
    "a = random.randint(0, 2)     # 0 以上 2 以下の整数の乱数を a に代入\n",
    "print(te[a])                 # リスト te の a 番目の要素を表示"
   ]
  },
  {
   "cell_type": "markdown",
   "id": "d446b779-fbc1-4875-84b6-c174c282133d",
   "metadata": {},
   "source": [
    "<div class=\"alert alert-block alert-success\">\n",
    "    \n",
    "<b>Pythonのコマンドまとめ - その2</b>\n",
    "\n",
    "- `import random`: 乱数を利用するための機能を追加する。\n",
    "- `random.randint(値1, 値2)`: 値1以上値2以下の整数の乱数が発生する。\n",
    "- `random.randrange(値1, 値2)`: 値1以上値2未満の整数の乱数が発生する。\n",
    "</div>"
   ]
  },
  {
   "cell_type": "code",
   "execution_count": 1,
   "id": "2a07c90d-baa3-4757-92c3-b2d6df2dea5e",
   "metadata": {},
   "outputs": [
    {
     "name": "stdout",
     "output_type": "stream",
     "text": [
      "[157, 192, 161, 158, 157, 175]\n"
     ]
    }
   ],
   "source": [
    "# 擬似サイコロのプログラム\n",
    "# 1000回サイコロを振ったときに1~6の目がそれぞれ何回出たか出力するプログラム\n",
    "import random                # random を利用できるようにする\n",
    "dice = [0, 0, 0, 0, 0, 0]    # リストで 1~6 の目の場所を用意する\n",
    "i = 1000                     # サイコロを振る回数を 1000 回に設定する\n",
    "while(i>0):                  # i が 0 より大きい間、以下を繰り返す\n",
    "    r = random.randrange(6)  # 0~5 の整数をランダムに発生させる\n",
    "    dice[r] = dice[r]+1      # 出た数をリストの添字に入れてカウントする\n",
    "    i = i - 1                # 繰り返す回数を 1 減らす\n",
    "print(dice)                  # 結果を出力する"
   ]
  },
  {
   "cell_type": "markdown",
   "id": "fc2c871d-5043-4fcc-859a-4cfd8852504d",
   "metadata": {},
   "source": [
    "## 7. 関数の作成と利用\n",
    "複雑なプログラムになるとコードが膨大になり、読みにくくなるので、プログラムを機能ごとに**関数**という単位で分割して整理することができる。プログラムの関数は、数学の関数のように `y = f(x)` の形で表すことができ、`f` を関数名、`x` を**引数**、`y` を**戻り値**という。また、関数を利用するときは、関数を呼び出すという処理が必要になる。"
   ]
  },
  {
   "cell_type": "code",
   "execution_count": 21,
   "id": "72d4a0fc-e28c-4f00-9708-46da4fcb85ef",
   "metadata": {},
   "outputs": [
    {
     "name": "stdin",
     "output_type": "stream",
     "text": [
      "hankei? 10\n"
     ]
    },
    {
     "name": "stdout",
     "output_type": "stream",
     "text": [
      "314.0\n"
     ]
    }
   ],
   "source": [
    "# 半径を入力すると円の面積を出力するプログラム\n",
    "def circle(r):              # 関数 circle(r) を定義\n",
    "    return r**2*3.14        # 戻り値を半径 r の円の面積にする\n",
    "\n",
    "r = int(input('hankei?'))   # 半径を入力させて r に代入\n",
    "area = circle(r)            # circlr(r) の計算結果を area に代入\n",
    "print(area)                 # area を表示"
   ]
  },
  {
   "cell_type": "markdown",
   "id": "8a409185-2960-4a7c-9bf1-c3714bb5177a",
   "metadata": {},
   "source": [
    "## 参考文献： \n",
    "- 文部科学省検定教科書　情報I (東京書籍)\n"
   ]
  }
 ],
 "metadata": {
  "kernelspec": {
   "display_name": "Python 3 (ipykernel)",
   "language": "python",
   "name": "python3"
  },
  "language_info": {
   "codemirror_mode": {
    "name": "ipython",
    "version": 3
   },
   "file_extension": ".py",
   "mimetype": "text/x-python",
   "name": "python",
   "nbconvert_exporter": "python",
   "pygments_lexer": "ipython3",
   "version": "3.12.3"
  }
 },
 "nbformat": 4,
 "nbformat_minor": 5
}
