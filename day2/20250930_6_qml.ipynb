{
 "cells": [
  {
   "cell_type": "markdown",
   "id": "c32eb08b",
   "metadata": {},
   "source": [
    "IBM-UTokyo 量子コンピューティング・駒場スクール\n",
    "\n",
    "# 6. 量子機械学習\n",
    "\n",
    "Kifumi Numata, IBM Quantum, Sep 30 2025 </br>\n",
    "© 2025 International Business Machines Corporation"
   ]
  },
  {
   "cell_type": "markdown",
   "id": "9ce5087a-33cf-4d5b-9ff1-d6fe99f568cb",
   "metadata": {},
   "source": [
    "Google Colab で行う場合は、次のセルの「#」を削除して実行します。"
   ]
  },
  {
   "cell_type": "code",
   "execution_count": null,
   "id": "4e63a2b0-2b60-454e-9003-88e32ce27ffb",
   "metadata": {},
   "outputs": [],
   "source": [
    "#!pip install qiskit qiskit-ibm-runtime qiskit-aer qiskit[visualization]\n",
    "#!pip install -U scikit-learn"
   ]
  },
  {
   "cell_type": "markdown",
   "id": "b14b58dd-df4a-4e0a-ac43-474ba0d95e14",
   "metadata": {},
   "source": [
    "## 1. データの符号化"
   ]
  },
  {
   "cell_type": "markdown",
   "id": "606a2009-917e-4357-b020-952b5da1ce13",
   "metadata": {},
   "source": [
    "### 1.1 計算基底符号化\n",
    "計算基底符号化は、古典の $P$ ビットの文字列を $P$ 量子ビットの計算基底状態に符号化します。\n",
    "Qiskit では、データ ポイントを符号化する状態を計算したら、`initialize` 関数を使用して準備できます。\n",
    "\n",
    "$\\vec{x} = (5,7,0)$ を符号化してみましょう。これは、2進数表記では、$x_1=101, x_2=111, x_3 = 000$ なので、状態 $|x\\rangle= \\frac{1}{\\sqrt{3}}(|101\\rangle+|111\\rangle+|000\\rangle)$ として符号化されます。"
   ]
  },
  {
   "cell_type": "code",
   "execution_count": null,
   "id": "b7802048-c7ab-4526-b66f-e3bb19b8e43c",
   "metadata": {},
   "outputs": [],
   "source": [
    "import math\n",
    "desired_state = [\n",
    "    1 / math.sqrt(3), # |000>\n",
    "    0,\n",
    "    0,\n",
    "    0,\n",
    "    0,\n",
    "    1 / math.sqrt(3), # |101>\n",
    "    0,\n",
    "    1 / math.sqrt(3)] # |111>\n",
    "\n",
    "desired_state"
   ]
  },
  {
   "cell_type": "markdown",
   "id": "1638121e-2dc8-4d88-87ee-99dc7e44569e",
   "metadata": {},
   "source": [
    "データを量子状態に直した後は、`initialize` 関数でこの状態を作ることができます。"
   ]
  },
  {
   "cell_type": "code",
   "execution_count": null,
   "id": "24c23237-eae2-40e2-a22f-8f70cf0bc960",
   "metadata": {},
   "outputs": [],
   "source": [
    "from qiskit import QuantumCircuit\n",
    "\n",
    "qc = QuantumCircuit(3)\n",
    "qc.initialize(desired_state, [0,1,2])\n",
    "qc.decompose().decompose().decompose().decompose().decompose().draw(output = 'mpl')"
   ]
  },
  {
   "cell_type": "markdown",
   "id": "57002892-2fb7-494f-8509-58e039075e2b",
   "metadata": {},
   "source": [
    "この回路を実行してみましょう。確率振幅はほぼ同じになります。"
   ]
  },
  {
   "cell_type": "code",
   "execution_count": null,
   "id": "9843c148-081d-4e12-bfbf-b9893ce91422",
   "metadata": {},
   "outputs": [],
   "source": [
    "from qiskit_aer import AerSimulator\n",
    "from qiskit_ibm_runtime import SamplerV2 as Sampler\n",
    "from qiskit.visualization import plot_distribution\n",
    "\n",
    "qc.measure_all()\n",
    "backend = AerSimulator()\n",
    "sampler = Sampler(backend)\n",
    "job = sampler.run([qc])\n",
    "\n",
    "counts = job.result()[0].data.meas.get_counts()\n",
    "plot_distribution(counts)    # 結果の分布を表示する"
   ]
  },
  {
   "cell_type": "markdown",
   "id": "ce310e43-98ef-4c4f-b425-5856887deafa",
   "metadata": {},
   "source": [
    "### 1.2 振幅符号化\n",
    "\n",
    "振幅符号化は、データを量子状態の振幅に符号化します。$\\vec{x} = (4,8,5)$を振幅符号化を使用して符号化してみましょう。まず、求めるベクトルを正規化するための定数 $\\alpha$ を計算します:\n",
    "\n",
    "$$\\sum_{i=1}^N \\left|x_i\\right|^2 = 4^2+8^2+5^2 = 105 = \\left|\\alpha\\right|^2 \\rightarrow \\alpha = \\sqrt{105}$$\n",
    "\n",
    "この定数を使い、計算基底の振幅に順にデータを入れることで量子状態は次のように求められます:\n",
    "\n",
    "$$|\\psi(\\vec{x})\\rangle = \\frac{1}{\\sqrt{105}}(4|00\\rangle+8|01\\rangle+5|10\\rangle+0|11\\rangle)$$\n",
    "\n",
    "上記の例では、ベクトル$\\vec{x}$の要素の数 $N=3$ は 2 の累乗ではありません。$N$ が 2 の累乗でない場合は、$2^n\\geq N$ となる最小の $n$ を量子ビット数とします。残りの振幅ベクトルはゼロで埋めます。今回は $n=2$ が最小の $n$ となるため、 2量子ビットの状態で準備しました。\n",
    " \n",
    "計算基底符号化と同様に、データセットを符号化する状態を計算したら、Qiskit では `initialize` 関数を使用して準備できます。"
   ]
  },
  {
   "cell_type": "code",
   "execution_count": null,
   "id": "e00484ca-b8fd-4a31-ad5e-1a119e7a042e",
   "metadata": {},
   "outputs": [],
   "source": [
    "desired_state = [\n",
    "    1 / math.sqrt(105) * 4,\n",
    "    1 / math.sqrt(105) * 8,\n",
    "    1 / math.sqrt(105) * 5,\n",
    "    1 / math.sqrt(105) * 0]\n",
    "\n",
    "qc = QuantumCircuit(2)\n",
    "qc.initialize(desired_state, [0,1])\n",
    "\n",
    "qc.decompose(reps=5).draw(output = 'mpl')"
   ]
  },
  {
   "cell_type": "markdown",
   "id": "c03be500-2494-4994-a862-12d15326122c",
   "metadata": {},
   "source": [
    "この量子回路を測定してみましょう。確率振幅にデータが反映されています。"
   ]
  },
  {
   "cell_type": "code",
   "execution_count": null,
   "id": "8074c25d-1d95-43be-9a42-9a0bd5e6f0b3",
   "metadata": {},
   "outputs": [],
   "source": [
    "qc.measure_all()\n",
    "backend = AerSimulator()\n",
    "sampler = Sampler(backend)\n",
    "job = sampler.run([qc])\n",
    "\n",
    "counts = job.result()[0].data.meas.get_counts()\n",
    "plot_distribution(counts)    # 結果の分布を表示する"
   ]
  },
  {
   "cell_type": "markdown",
   "id": "0222e29c-08fc-444a-a472-d89231765331",
   "metadata": {},
   "source": [
    "### 1.3 角度符号化\n",
    "角度符号化は、$R_X$ ゲートまたは $R_Y$ ゲートなどの回転ゲートの角度にデータを符号化します。\n",
    "角度符号化は、量子サポートベクターマシン (QSVM) や変分量子回路 (VQC) などの特徴量マップを使用する QML モデルで重要です。\n",
    "\n",
    "以下では、$\\vec{x}= (0, \\pi/4, \\pi/2)$ を $R_Y$ ゲートで符号化します。"
   ]
  },
  {
   "cell_type": "code",
   "execution_count": null,
   "id": "607c6438-8347-45be-88ba-f9a6f530401e",
   "metadata": {},
   "outputs": [],
   "source": [
    "qc = QuantumCircuit(3)\n",
    "qc.ry(0, 0)\n",
    "qc.ry(2*math.pi/4, 1)\n",
    "qc.ry(2*math.pi/2, 2)\n",
    "qc.draw(output = 'mpl')"
   ]
  },
  {
   "cell_type": "markdown",
   "id": "2c292ea8-3610-4834-9d69-c2605003540a",
   "metadata": {},
   "source": [
    "### 1.4 角度符号化の応用\n",
    "角度符号化の応用で、位相の角度にデータを代入し、また、エンタングルメントのための複数量子ビットゲートも含みます。Qiskit の [Circuit Library](https://quantum.cloud.ibm.com/docs/en/api/qiskit/circuit_library) には角度符号化を応用した特徴量マップがあります。"
   ]
  },
  {
   "cell_type": "markdown",
   "id": "80929b67-e022-4f73-890d-73e9b6399286",
   "metadata": {},
   "source": [
    "#### Z feature map\n",
    "[`z_feature_map`](https://quantum.cloud.ibm.com/docs/en/api/qiskit/qiskit.circuit.library.z_feature_map) (ZFM)は、角度符号化の自然な拡張であるシンプルな特徴量マップです。以下では2次元のデータで3回繰り返しのZFMの回路を作成します。"
   ]
  },
  {
   "cell_type": "code",
   "execution_count": null,
   "id": "eeafa679-8ac8-4926-b643-6b0c92ee6a39",
   "metadata": {},
   "outputs": [],
   "source": [
    "from qiskit.circuit.library import z_feature_map\n",
    "from math import pi\n",
    "\n",
    "zfeature_map = z_feature_map(feature_dimension=2, reps=3)\n",
    "zfeature_map.draw(\"mpl\")"
   ]
  },
  {
   "cell_type": "markdown",
   "id": "16b14dc5-8aad-4b64-adf4-c849c0f92b9b",
   "metadata": {},
   "source": [
    "パラメーターにデータを代入するには `assign_parameters` を使います。"
   ]
  },
  {
   "cell_type": "code",
   "execution_count": null,
   "id": "18da1470-aa7a-4091-8046-5a0e083e84d0",
   "metadata": {},
   "outputs": [],
   "source": [
    "zfeature_map = zfeature_map.assign_parameters([(1/2)*pi/2, (1/2)*pi/3])\n",
    "zfeature_map.draw(\"mpl\")"
   ]
  },
  {
   "cell_type": "markdown",
   "id": "f3b6b2a0-7d21-4fc7-a2f0-c36d49205834",
   "metadata": {},
   "source": [
    "#### ZZ feature map\n",
    "[`zz_feature_map`](https://quantum.cloud.ibm.com/docs/en/api/qiskit/qiskit.circuit.library.zz_feature_map) (ZZFM) は、2 量子ビットのエンタングル・ゲート、具体的には $ZZ$ 回転ゲート $R_{ZZ}(\\theta)$ を追加して ZFM を拡張します。ZZFM は、ZFM とは異なり、古典コンピューターで計算するにはコストがかかると推測されます。以下は、4次元のデータで、エンタングルメントは線形の構造(`linear`)、繰り返しは1回の ZZFM 回路です。"
   ]
  },
  {
   "cell_type": "code",
   "execution_count": null,
   "id": "1c607e05-cfc7-44b0-93c0-417912d1f044",
   "metadata": {},
   "outputs": [],
   "source": [
    "from qiskit.circuit.library import zz_feature_map\n",
    " \n",
    "feature_dim = 4\n",
    "zzfeature_map = zz_feature_map(\n",
    "    feature_dimension=feature_dim, entanglement='linear', reps=1\n",
    ")\n",
    "zzfeature_map.draw(\"mpl\", scale=1)"
   ]
  },
  {
   "cell_type": "markdown",
   "id": "8e98c03a-e1bf-49da-af5e-ef2e66965b84",
   "metadata": {},
   "source": [
    "#### Pauli feature map\n",
    "\n",
    "[`pauli_feature_map`](https://quantum.cloud.ibm.com/docs/en/api/qiskit/qiskit.circuit.library.pauli_feature_map) (PFM) は、任意のパウリ ゲートを使用するために ZFM と ZZFM を一般化したものです。以下は、3次元のデータで、エンタングルメントは線形＋両端の量子ビット対まで対応する`circular`、パウリ演算子は、\"X\", \"YY\" の PFM です。"
   ]
  },
  {
   "cell_type": "code",
   "execution_count": null,
   "id": "a6479b0f-0c8b-46a3-b7fc-ef57730e5a1b",
   "metadata": {},
   "outputs": [],
   "source": [
    "from qiskit.circuit.library import pauli_feature_map\n",
    " \n",
    "feature_dim = 3\n",
    "pfmap = pauli_feature_map(\n",
    "    feature_dimension=feature_dim, entanglement='circular', reps=1, paulis=[\"Y\", \"XX\"]\n",
    ")\n",
    " \n",
    "pfmap.draw(\"mpl\", scale=1.5)"
   ]
  },
  {
   "cell_type": "markdown",
   "id": "987cbb0b-9c3c-463d-bd1e-3a58ab0a9d40",
   "metadata": {},
   "source": [
    "#### efficient_su2\n",
    "パラメーター付き回路を特徴量マップとして用いることもできます。以下は、エンタングルメントを使用した符号化の一般的で有用な例である、 [`efficient_su2`](https://quantum.cloud.ibm.com/docs/en/api/qiskit/qiskit.circuit.library.efficient_su2) 回路です。この回路は、たとえば 2 量子ビットだけで 8 つの特徴を符号化できます。"
   ]
  },
  {
   "cell_type": "code",
   "execution_count": null,
   "id": "53f72b0f-d1b8-4bde-87f5-8a5445649516",
   "metadata": {},
   "outputs": [],
   "source": [
    "from qiskit.circuit.library import efficient_su2\n",
    " \n",
    "circuit = efficient_su2(num_qubits=2, reps=1, insert_barriers=True)\n",
    "circuit.draw(output=\"mpl\")"
   ]
  },
  {
   "cell_type": "markdown",
   "id": "bb0ba9c5",
   "metadata": {},
   "source": [
    "## 2. 手書き文字の学習\n",
    "### データを用意\n",
    "\n",
    "ここでは，手書き数字画像のデータセット(MNISTデータセット)から0と1のサブセットを扱います。"
   ]
  },
  {
   "cell_type": "code",
   "execution_count": null,
   "id": "fd58dabf",
   "metadata": {},
   "outputs": [],
   "source": [
    "# Scikit-learnのインポート(Python用の機械学習ライブラリー)\n",
    "from sklearn import datasets\n",
    "\n",
    "# 描画のため\n",
    "import matplotlib.pyplot as plt\n",
    "\n",
    "# 数字データセットから2クラスのデータ(0と1)を読み込み\n",
    "digits = datasets.load_digits(n_class=2)   \n",
    "\n",
    "# 読み込んだ画像の最初の100枚をプロット\n",
    "fig, axes = plt.subplots(10, 10, figsize=(15, 15), subplot_kw={'xticks':[], 'yticks':[]}, gridspec_kw=dict(hspace=0.5, wspace=0.5))\n",
    "for i, ax in enumerate(axes.flat):\n",
    "    ax.set_axis_off()\n",
    "    ax.imshow(digits.images[i], cmap=plt.cm.gray_r, interpolation='nearest')\n",
    "    ax.set_title(digits.target[i])"
   ]
  },
  {
   "cell_type": "code",
   "execution_count": null,
   "id": "7f9be323",
   "metadata": {},
   "outputs": [],
   "source": [
    "print(digits.images[0])"
   ]
  },
  {
   "cell_type": "markdown",
   "id": "30e94e91",
   "metadata": {},
   "source": [
    "このデータセットには、合計360個のデータが含まれています。各データポイントは、8×8の数字の画像で、配列になっていて、各要素は0（白）から16（黒）までの整数です。古典的な分類アルゴリズムの際と同様に、データセットを学習用（25個）とテスト用（10個）のサンプルに分割し、正規化する必要があります。このデータセットを量子分類アルゴリズムに用いるために、範囲を-1から1の間にスケーリングし、次元を使用する量子ビット数（今回は4）に縮小します。"
   ]
  },
  {
   "cell_type": "code",
   "execution_count": null,
   "id": "4f8a7be2",
   "metadata": {},
   "outputs": [],
   "source": [
    "import numpy as np\n",
    "from sklearn.model_selection import train_test_split # データ分割\n",
    "from sklearn.decomposition import PCA # Principal component analysis(主成分分析)\n",
    "from sklearn.preprocessing import StandardScaler, MinMaxScaler # 標準化、正規化のスケール変換\n",
    "\n",
    "# データセットの分割\n",
    "sample_train, sample_test, labels_train, labels_test = train_test_split(\n",
    "     digits.data, digits.target, test_size=0.4, random_state=22)\n",
    "\n",
    "# 次元削除\n",
    "n_dim = 4\n",
    "pca = PCA(n_components=n_dim).fit(sample_train)\n",
    "sample_train = pca.transform(sample_train)\n",
    "sample_test = pca.transform(sample_test)\n",
    "\n",
    "# 正規化\n",
    "std_scale = StandardScaler().fit(sample_train)\n",
    "sample_train = std_scale.transform(sample_train)\n",
    "sample_test = std_scale.transform(sample_test)\n",
    "\n",
    "# スケーリング\n",
    "samples = np.append(sample_train, sample_test, axis=0)\n",
    "minmax_scale = MinMaxScaler((-1, 1)).fit(samples)\n",
    "sample_train = minmax_scale.transform(sample_train)\n",
    "sample_test = minmax_scale.transform(sample_test)\n",
    "\n",
    "# 学習用25個とテスト用10個を選択\n",
    "train_size = 25\n",
    "sample_train = sample_train[:train_size]\n",
    "labels_train = labels_train[:train_size]\n",
    "\n",
    "test_size = 10\n",
    "sample_test = sample_test[:test_size]\n",
    "labels_test = labels_test[:test_size]"
   ]
  },
  {
   "cell_type": "code",
   "execution_count": null,
   "id": "2b5e9eb5",
   "metadata": {},
   "outputs": [],
   "source": [
    "# 一つ目のデータをそれぞれ表示\n",
    "print(sample_train[0], labels_train[0])\n",
    "print(sample_test[0], labels_test[0])"
   ]
  },
  {
   "cell_type": "code",
   "execution_count": null,
   "id": "2c4596bc",
   "metadata": {},
   "outputs": [],
   "source": [
    "# 学習用データのラベルを表示\n",
    "print(labels_train)"
   ]
  },
  {
   "cell_type": "markdown",
   "id": "8a907673",
   "metadata": {},
   "source": [
    "## データ符号化(エンコード)\n",
    "\n",
    "この古典データを、量子特徴量マップ(`zz_feature_map`)を用いて量子状態空間にエンコードしていきます。"
   ]
  },
  {
   "cell_type": "code",
   "execution_count": null,
   "id": "b1a9014c-6ab0-45b8-a746-690c3186507c",
   "metadata": {},
   "outputs": [],
   "source": [
    "# 4特徴量、深さ(繰り返し数)1のZZFeatureMap\n",
    "zz_map = zz_feature_map(feature_dimension=4, entanglement='linear', reps=1, insert_barriers=True)\n",
    "zz_map.draw('mpl')"
   ]
  },
  {
   "cell_type": "markdown",
   "id": "8e53d756",
   "metadata": {},
   "source": [
    "### 量子カーネルの計算\n",
    "\n",
    "`zz_feature_map`を使って、学習データの0個目と1個目のデータについて、量子カーネルを計算する量子回路を作成し、実際に計算してみます。この値は、二つの量子状態のFidelity(忠実度)ともいいます。"
   ]
  },
  {
   "cell_type": "code",
   "execution_count": null,
   "id": "c941d90b",
   "metadata": {},
   "outputs": [],
   "source": [
    "print(sample_train[0])\n",
    "print(sample_train[1])"
   ]
  },
  {
   "cell_type": "code",
   "execution_count": null,
   "id": "82147e5b-616e-4d5d-a18b-eb930b448808",
   "metadata": {},
   "outputs": [],
   "source": [
    "zz_map = zz_feature_map(feature_dimension=4, reps=1, entanglement='linear')\n",
    "qc_1 =zz_map.assign_parameters(sample_train[0])\n",
    "qc_2 =zz_map.assign_parameters(sample_train[1])\n",
    "fidelity_circuit = qc_1.copy()\n",
    "fidelity_circuit.append(qc_2.inverse().decompose(), range(fidelity_circuit.num_qubits))\n",
    "fidelity_circuit.measure_all()\n",
    "fidelity_circuit.decompose().draw('mpl')"
   ]
  },
  {
   "cell_type": "markdown",
   "id": "8d266ee9",
   "metadata": {},
   "source": [
    "各回転ゲートのパラメーター値は少し読みにくいですが、回路が対称になっていることが分かると思います。左半分は学習データsample_train[0]が、右半分は学習データsample_train[1]がコード化されています。\n",
    "\n",
    "例として、上記の量子カーネルを測定し、ゼロ状態のカウント数の割合として、カーネル行列の要素（訓練データの0個目と1個目のデータについて）を計算します。"
   ]
  },
  {
   "cell_type": "code",
   "execution_count": null,
   "id": "82e45007-3074-4d76-8a73-7f822757b89d",
   "metadata": {},
   "outputs": [],
   "source": [
    "from qiskit.transpiler.preset_passmanagers import generate_preset_pass_manager\n",
    "# シミュレーターで実験\n",
    "backend = AerSimulator()\n",
    "# 回路を最適化\n",
    "pm = generate_preset_pass_manager(backend=backend, optimization_level=1)\n",
    "isa_qc = pm.run(fidelity_circuit)"
   ]
  },
  {
   "cell_type": "code",
   "execution_count": null,
   "id": "102cbe2a-da3d-49af-b06f-75b76b38f474",
   "metadata": {},
   "outputs": [],
   "source": [
    "# Samplerで実行\n",
    "nshots = 1024\n",
    "sampler = Sampler(backend)\n",
    "job = sampler.run([isa_qc], shots=nshots)\n",
    "result = job.result()\n",
    "\n",
    "#  測定された回数を表示\n",
    "counts = result[0].data.meas.get_counts()\n",
    "print(counts)"
   ]
  },
  {
   "cell_type": "code",
   "execution_count": null,
   "id": "4ee6cc06-aeac-46e3-ab05-cf76a3f9ab59",
   "metadata": {},
   "outputs": [],
   "source": [
    "counts.get('0000')/sum(counts.values())"
   ]
  },
  {
   "cell_type": "markdown",
   "id": "b564a780",
   "metadata": {},
   "source": [
    "### 量子カーネル計算\n",
    "\n",
    "このプロセスを，学習データサンプルのペアごとに繰り返して学習カーネル行列を埋めていきます。\n",
    "先ほどど同じ `zz_feature_map` を用いて量子回路を作り、また、今回は、 `unitary_overlap`を使ってカーネル行列の要素となるfidelityを計算します。"
   ]
  },
  {
   "cell_type": "code",
   "execution_count": null,
   "id": "dd111cb5-d301-4983-a933-48f2e4671e0d",
   "metadata": {},
   "outputs": [],
   "source": [
    "from qiskit.circuit.library import unitary_overlap\n",
    "zz_map = zz_feature_map(feature_dimension=4, reps=1, entanglement='linear')\n",
    "fidelity = unitary_overlap(zz_map, zz_map)\n",
    "fidelity.measure_all()"
   ]
  },
  {
   "cell_type": "markdown",
   "id": "625e2cd9-a43a-482c-97df-6484bfe1af3e",
   "metadata": {},
   "source": [
    "回路の形状を見てみましょう。"
   ]
  },
  {
   "cell_type": "code",
   "execution_count": null,
   "id": "337607ac-e8cd-459a-9f3f-a82546cf6860",
   "metadata": {},
   "outputs": [],
   "source": [
    "fidelity.draw('mpl', idle_wires=False, fold=-1)"
   ]
  },
  {
   "cell_type": "markdown",
   "id": "a0879261-9e1d-4a6d-9a9b-5e291a4f1df9",
   "metadata": {},
   "source": [
    "出力を格納するために、空のカーネル行列と、次元の空のテスト用カーネル行列を作ります。"
   ]
  },
  {
   "cell_type": "code",
   "execution_count": null,
   "id": "38db19a8-609b-4458-8c53-25eed8954c40",
   "metadata": {},
   "outputs": [],
   "source": [
    "# 空のカーネル行列\n",
    "kernel_matrix = np.full((train_size, train_size), np.nan) # 25x25の学習用カーネル行列\n",
    "test_matrix = np.full((test_size, train_size), np.nan) # 10x25のテスト用カーネル行列"
   ]
  },
  {
   "cell_type": "markdown",
   "id": "b8816006-e721-4744-8703-a0f8e62434a0",
   "metadata": {},
   "source": [
    "Overlap回路を作ります。カーネル行列は対角に対して対称なので、同じ計算は繰り返さないようにすることで、計算回数は二分の一に減らせます。また、ノイズがない場合は対角要素が1となるため、今回は対角要素を計算せず、1を代入します。(25×25×1/2-25)要素と(10×25)要素を計算するので、以下のセルは実行にすこし時間がかかるかもしれません。"
   ]
  },
  {
   "cell_type": "code",
   "execution_count": null,
   "id": "a46acd18-4e0c-4640-9056-db4e308c9a96",
   "metadata": {},
   "outputs": [],
   "source": [
    "%%time\n",
    "num_shots = 1024\n",
    "\n",
    "backend = AerSimulator()\n",
    "sampler = Sampler(mode=backend)\n",
    "\n",
    "for x1 in range(0,train_size):\n",
    "    for x2 in range(x1+1,train_size):\n",
    "        unitary1 = zz_map.assign_parameters(list(sample_train[x1]))\n",
    "        unitary2 = zz_map.assign_parameters(list(sample_train[x2]))\n",
    "\n",
    "        # Overlap回路の作成\n",
    "        overlap_circ = unitary_overlap(unitary1, unitary2)\n",
    "        overlap_circ.measure_all()\n",
    "    \n",
    "        # Qiskit sampler primitiveの実行\n",
    "        counts = (sampler.run([overlap_circ], shots=num_shots).result()[0].data.meas.get_int_counts())\n",
    "\n",
    "        # |0>状態の確率をカーネル行列の要素に入れ、転置された要素にも同じ確率を入れます。\n",
    "        kernel_matrix[x1, x2] = counts.get(0, 0.0)/num_shots\n",
    "        kernel_matrix[x2, x1] = counts.get(0, 0.0)/num_shots\n",
    "    # 確率の内積なので、対角線上の要素を1で埋めます\n",
    "    kernel_matrix[x1,x1] =1    \n",
    "\n",
    "print(\"training done\")\n",
    "\n",
    "# 上記と同様のプロセスをテストデータを使って行う\n",
    "for x1 in range(0,test_size):\n",
    "    for x2 in range(0,train_size):\n",
    "        unitary1 = zz_map.assign_parameters(list(sample_test[x1]))\n",
    "        unitary2 = zz_map.assign_parameters(list(sample_train[x2]))\n",
    "\n",
    "        # Overlap回路の作成\n",
    "        overlap_circ = unitary_overlap(unitary1, unitary2)\n",
    "        overlap_circ.measure_all()\n",
    "    \n",
    "        counts = (sampler.run([overlap_circ], shots=num_shots).result()[0].data.meas.get_int_counts())\n",
    "\n",
    "        test_matrix[x1, x2] = counts.get(0, 0.0)/num_shots\n",
    "\n",
    "print(\"test matrix done\")"
   ]
  },
  {
   "cell_type": "markdown",
   "id": "4cc45e19-aed8-4e2d-87fc-5f43bf739ddc",
   "metadata": {},
   "source": [
    "2つのカーネル行列を見てみましょう。"
   ]
  },
  {
   "cell_type": "code",
   "execution_count": null,
   "id": "8c10b320-40e2-4935-9bf5-9837425a4494",
   "metadata": {},
   "outputs": [],
   "source": [
    "fig, axs = plt.subplots(1, 2, figsize=(10, 5))\n",
    "axs[0].imshow(np.asmatrix(kernel_matrix),\n",
    "              interpolation='nearest', origin='upper', cmap='Blues')\n",
    "axs[0].set_title(\"kernel matrix\")\n",
    "axs[1].imshow(np.asmatrix(test_matrix),\n",
    "              interpolation='nearest', origin='upper', cmap='Reds')\n",
    "axs[1].set_title(\"test matrix\")\n",
    "plt.show()"
   ]
  },
  {
   "cell_type": "markdown",
   "id": "7ae61ff1-1613-4e2c-a4df-0381df319f6d",
   "metadata": {},
   "source": [
    "### 古典計算による学習\n",
    "\n",
    "古典の機械学習アルゴリズムで学習を行います。Scikit-Learnのサポートベクトル分類器（SVC）`sklearn.svc`を使い、事前に計算したカーネルを使うため、`kernel = precomputed` を指定します。"
   ]
  },
  {
   "cell_type": "code",
   "execution_count": null,
   "id": "f5a99875-3ee7-4f56-8c18-61e8b6a07e7f",
   "metadata": {},
   "outputs": [],
   "source": [
    "from sklearn.svm import SVC # SVM Classification(SVM分類)\n",
    "\n",
    "# 古典の機械学習パッケージからサポートベクトル分類器で事前に計算されたカーネル行列を使用することを指定\n",
    "qml_svc = SVC(kernel=\"precomputed\")"
   ]
  },
  {
   "cell_type": "markdown",
   "id": "fe088ebc-5783-494e-aaba-c1cabe9c6fea",
   "metadata": {},
   "source": [
    "`SVC.fit` を使って、カーネル行列と学習用ラベルを入力し、学習します。`SVC.predict` は test_matrix を使ってテストデータのラベルを予測します。`SVC.score` はテストデータをスコアリングして精度を返します。"
   ]
  },
  {
   "cell_type": "code",
   "execution_count": null,
   "id": "cba58777-a7a1-4ebf-a829-fefe1a41cda1",
   "metadata": {},
   "outputs": [],
   "source": [
    "# 事前に計算された行列と学習データのラベルを入力。古典アルゴリズムがfitを行います。\n",
    "qml_svc.fit(kernel_matrix, labels_train)\n",
    "\n",
    "# 学習データとテストデータのカーネル行列を用いてテストデータのラベルを予測します。\n",
    "label_predict = qml_svc.predict(test_matrix)\n",
    "print(label_predict, labels_test, sep=\"\\n\")\n",
    "\n",
    "# テストデータの行列とテストラベルを入力として、.scoreを使ってデータをテストします。\n",
    "qml_score_precomputed_kernel = qml_svc.score(test_matrix, labels_test)\n",
    "print(f\"Precomputed kernel classification test score: {qml_score_precomputed_kernel}\")"
   ]
  },
  {
   "cell_type": "markdown",
   "id": "1c3792eb-5a18-4aaf-93d2-73882e2fb276",
   "metadata": {},
   "source": [
    "90%の確率で学習されました。"
   ]
  },
  {
   "cell_type": "markdown",
   "id": "430e7b18-059d-41a2-8998-3362b0b46d2c",
   "metadata": {},
   "source": [
    "## 演習 1\n",
    "[`pauli_feature_map`](https://quantum.cloud.ibm.com/docs/en/api/qiskit/qiskit.circuit.library.pauli_feature_map) を使って、独自の特徴量マップを作成し、同じデータセットでカーネル行列を作り、学習精度を向上させてみてください。"
   ]
  },
  {
   "cell_type": "code",
   "execution_count": null,
   "id": "3aeaa20d-56e0-4dcb-be98-3fd233ed0334",
   "metadata": {},
   "outputs": [],
   "source": [
    "feature_dim = ##コードを入れてください##\n",
    "p_map = pauli_feature_map(\n",
    "    ##コードを入れてください##\n",
    ")\n",
    "p_map.draw(\"mpl\", scale=1.5)"
   ]
  },
  {
   "cell_type": "code",
   "execution_count": null,
   "id": "a129655f-dd16-43d3-97f0-648b6ce5ba9c",
   "metadata": {},
   "outputs": [],
   "source": [
    "# 空のカーネル行列\n",
    "kernel_matrix_ex1 = np.full((train_size, train_size), np.nan) # 25x25の学習用カーネル行列\n",
    "test_matrix_ex1 = np.full((test_size, train_size), np.nan) # 10x25のテスト用カーネル行列"
   ]
  },
  {
   "cell_type": "code",
   "execution_count": null,
   "id": "31b7d3c5-816f-4f5f-925f-e6b63d2753fa",
   "metadata": {},
   "outputs": [],
   "source": [
    "%%time\n",
    "num_shots = 1024\n",
    "\n",
    "backend = AerSimulator()\n",
    "sampler = Sampler(mode=backend)\n",
    "\n",
    "for x1 in range(0,train_size):\n",
    "    for x2 in range(x1+1,train_size):\n",
    "        unitary1 = p_map.assign_parameters(list(sample_train[x1]))\n",
    "        unitary2 = p_map.assign_parameters(list(sample_train[x2]))\n",
    "\n",
    "        # Overlap回路の作成\n",
    "        overlap_circ = unitary_overlap(unitary1, unitary2)\n",
    "        overlap_circ.measure_all()\n",
    "    \n",
    "        # Qiskit sampler primitiveの実行\n",
    "        counts = (sampler.run([overlap_circ], shots=num_shots).result()[0].data.meas.get_int_counts())\n",
    "\n",
    "        # |0>状態の確率をカーネル行列の要素に入れ、転置された要素にも同じ確率を入れます。\n",
    "        kernel_matrix_ex1[x1, x2] = counts.get(0, 0.0)/num_shots\n",
    "        kernel_matrix_ex1[x2, x1] = counts.get(0, 0.0)/num_shots\n",
    "    # 確率の内積なので、対角線上の要素を1で埋めます\n",
    "    kernel_matrix_ex1[x1,x1] =1    \n",
    "\n",
    "print(\"training done\")\n",
    "\n",
    "# 上記と同様のプロセスをテストデータを使って行う\n",
    "for x1 in range(0,test_size):\n",
    "    for x2 in range(0,train_size):\n",
    "        unitary1 = p_map.assign_parameters(list(sample_test[x1]))\n",
    "        unitary2 = p_map.assign_parameters(list(sample_train[x2]))\n",
    "\n",
    "        # Overlap回路の作成\n",
    "        overlap_circ = unitary_overlap(unitary1, unitary2)\n",
    "        overlap_circ.measure_all()\n",
    "    \n",
    "        counts = (sampler.run([overlap_circ], shots=num_shots).result()[0].data.meas.get_int_counts())\n",
    "\n",
    "        test_matrix_ex1[x1, x2] = counts.get(0, 0.0)/num_shots\n",
    "\n",
    "print(\"test matrix done\")"
   ]
  },
  {
   "cell_type": "code",
   "execution_count": null,
   "id": "40914e58-7106-4e24-af32-20cb5d5360d8",
   "metadata": {},
   "outputs": [],
   "source": [
    "fig, axs = plt.subplots(1, 2, figsize=(10, 5))\n",
    "axs[0].imshow(np.asmatrix(kernel_matrix_ex1),\n",
    "              interpolation='nearest', origin='upper', cmap='Blues')\n",
    "axs[0].set_title(\"kernel matrix_ex1\")\n",
    "axs[1].imshow(np.asmatrix(test_matrix_ex1),\n",
    "              interpolation='nearest', origin='upper', cmap='Reds')\n",
    "axs[1].set_title(\"test matrix_ex1\")\n",
    "plt.show()"
   ]
  },
  {
   "cell_type": "code",
   "execution_count": null,
   "id": "c717b4e4-4955-4751-9322-6589273f36d5",
   "metadata": {},
   "outputs": [],
   "source": [
    "# 古典の機械学習パッケージからサポートベクトル分類器で事前に計算されたカーネル行列を使用することを指定\n",
    "qml_svc = SVC(kernel=\"precomputed\")\n",
    "\n",
    "# 事前に計算された行列と学習データのラベルを入力。古典アルゴリズムがfitを行います。\n",
    "qml_svc.fit(kernel_matrix_ex1, labels_train)\n",
    "\n",
    "# 学習データとテストデータのカーネル行列を用いてテストデータのラベルを予測します。\n",
    "label_predict_ex1 = qml_svc.predict(test_matrix_ex1)\n",
    "print(label_predict_ex1, labels_test, sep=\"\\n\")\n",
    "\n",
    "# テストデータの行列とテストラベルを入力として、.scoreを使ってデータをテストします。\n",
    "qml_score_precomputed_kernel = qml_svc.score(test_matrix_ex1, labels_test)\n",
    "print(f\"Precomputed kernel classification test score: {qml_score_precomputed_kernel}\")"
   ]
  },
  {
   "cell_type": "markdown",
   "id": "11bf1652",
   "metadata": {},
   "source": [
    "## 3. 洋服画像データの分類\n"
   ]
  },
  {
   "cell_type": "markdown",
   "id": "c86b1f38",
   "metadata": {},
   "source": [
    "ここで扱うデータは，MNISTデータセットの亜種である[Fashion-MNIST](https://github.com/zalandoresearch/fashion-mnist/blob/master/README.ja.md)という洋服画像データセットのサブセットです。"
   ]
  },
  {
   "cell_type": "markdown",
   "id": "a2f93860-302a-45f3-ae7d-c2dc7162e23f",
   "metadata": {},
   "source": [
    "\n",
    "![Fashion-MNIST](https://raw.githubusercontent.com/zalandoresearch/fashion-mnist/refs/heads/master/doc/img/fashion-mnist-sprite.png)\n"
   ]
  },
  {
   "cell_type": "markdown",
   "id": "2a5c7f23",
   "metadata": {},
   "source": [
    "以下のラベルの画像について分類します。\n",
    "\n",
    "- label 2: プルオーバー\n",
    "- label 3: ドレス\n",
    "\n",
    "まずデータセットを読み込んで，クラスごとに1枚ずつ画像を表示してみます。"
   ]
  },
  {
   "cell_type": "code",
   "execution_count": null,
   "id": "3393fc6f",
   "metadata": {},
   "outputs": [],
   "source": [
    "# データのロード\n",
    "DATA_PATH = 'fashion.npz'\n",
    "data = np.load(DATA_PATH)\n",
    "\n",
    "sample_train = data['sample_train']\n",
    "labels_train = data['labels_train']\n",
    "sample_test = data['sample_test']\n",
    "\n",
    "# データセットの分割\n",
    "sample_train, sample_test, labels_train, labels_test = train_test_split(\n",
    "    sample_train, labels_train, test_size=0.2, random_state=42)\n",
    "\n",
    "# データの表示\n",
    "fig = plt.figure()\n",
    "LABELS = [2,3]\n",
    "num_labels = len(LABELS)\n",
    "for i in range(num_labels):\n",
    "    ax = fig.add_subplot(2, num_labels, i+1)\n",
    "    img = sample_train[labels_train==LABELS[i]][0].reshape((28, 28))\n",
    "    ax.imshow(img, cmap=\"Greys\")"
   ]
  },
  {
   "cell_type": "markdown",
   "id": "5262207e",
   "metadata": {},
   "source": [
    "次に，以下のデータセットの前処理をします\n",
    "\n",
    "- 主成分分析(PCA)による次元圧縮\n",
    "- 正規化\n",
    "- スケーリング\n",
    "- 学習用（50個）とテスト用（10個）のサンプルを選択\n"
   ]
  },
  {
   "cell_type": "code",
   "execution_count": null,
   "id": "5fab643c",
   "metadata": {},
   "outputs": [],
   "source": [
    "# 次元削除\n",
    "N_DIM = 5\n",
    "pca = PCA(n_components=N_DIM).fit(sample_train)\n",
    "sample_train = pca.transform(sample_train)\n",
    "sample_test = pca.transform(sample_test)\n",
    "\n",
    "# 正規化\n",
    "std_scale = StandardScaler().fit(sample_train)\n",
    "sample_train = std_scale.transform(sample_train)\n",
    "sample_test = std_scale.transform(sample_test)\n",
    "\n",
    "# スケーリング\n",
    "samples = np.append(sample_train, sample_test, axis=0)\n",
    "minmax_scale = MinMaxScaler((-1, 1)).fit(samples)\n",
    "sample_train = minmax_scale.transform(sample_train)\n",
    "sample_test = minmax_scale.transform(sample_test)\n",
    "\n",
    "# 選択\n",
    "train_size = 50\n",
    "sample_train = sample_train[:train_size]\n",
    "labels_train = labels_train[:train_size]\n",
    "\n",
    "test_size = 10\n",
    "sample_test = sample_test[:test_size]\n",
    "labels_test = labels_test[:test_size]"
   ]
  },
  {
   "cell_type": "code",
   "execution_count": null,
   "id": "84574a68",
   "metadata": {},
   "outputs": [],
   "source": [
    "# 一つ目のデータをそれぞれ表示\n",
    "print(sample_train[0], labels_train[0])\n",
    "print(sample_test[0], labels_test[0])"
   ]
  },
  {
   "cell_type": "markdown",
   "id": "2e933c27",
   "metadata": {},
   "source": [
    "## 演習 2\n",
    "\n",
    "この洋服画像データについて、自由にカーネル行列を設計し、古典のSVMを使って学習してください。学習率を確認してみましょう。\n"
   ]
  },
  {
   "cell_type": "code",
   "execution_count": null,
   "id": "64237dd7-74e6-4898-84bb-0752aa496d87",
   "metadata": {},
   "outputs": [],
   "source": [
    "fmap_ex2 = #コードを入れてください \n",
    "\n",
    "fmap_ex2.decompose().draw('mpl', idle_wires=False, fold=-1)"
   ]
  },
  {
   "cell_type": "code",
   "execution_count": null,
   "id": "23a0f262-a7ad-4c94-bf63-8422a4d33014",
   "metadata": {},
   "outputs": [],
   "source": [
    "# 空のカーネル行列\n",
    "kernel_matrix_ex2 = np.full((train_size, train_size), np.nan) # 50x50の学習用カーネル行列\n",
    "test_matrix_ex2 = np.full((test_size, train_size), np.nan) # 10x50のテスト用カーネル行列"
   ]
  },
  {
   "cell_type": "markdown",
   "id": "e79f65d7",
   "metadata": {},
   "source": [
    "カーネル行列`kernel_matrix_ex2`と`test_matrix_ex2`を計算します。"
   ]
  },
  {
   "cell_type": "code",
   "execution_count": null,
   "id": "a4b73a4f-fd07-41b4-a3ea-4a131c73f539",
   "metadata": {},
   "outputs": [],
   "source": [
    "#コードを作成します\n",
    "\n",
    "\n",
    "\n",
    "\n",
    "\n"
   ]
  },
  {
   "cell_type": "code",
   "execution_count": null,
   "id": "868b7991-8126-4e26-8125-643244a6a83f",
   "metadata": {},
   "outputs": [],
   "source": [
    "fig, axs = plt.subplots(1, 2, figsize=(10, 5))\n",
    "axs[0].imshow(np.asmatrix(kernel_matrix_ex2),\n",
    "              interpolation='nearest', origin='upper', cmap='Blues')\n",
    "axs[0].set_title(\"kernel matrix_ex2\")\n",
    "axs[1].imshow(np.asmatrix(test_matrix_ex2),\n",
    "              interpolation='nearest', origin='upper', cmap='Reds')\n",
    "axs[1].set_title(\"test matrix_ex2\")\n",
    "plt.show()"
   ]
  },
  {
   "cell_type": "code",
   "execution_count": null,
   "id": "6d27a027-f158-4baa-8ec4-ec8d8bcd823d",
   "metadata": {},
   "outputs": [],
   "source": [
    "# 古典の機械学習パッケージからサポートベクトル分類器で事前に計算されたカーネル行列を使用することを指定\n",
    "qml_svc = SVC(kernel=\"precomputed\")\n",
    "\n",
    "# 事前に計算された行列と学習データのラベルを入力。古典アルゴリズムがfitを行います。\n",
    "qml_svc.fit(kernel_matrix_ex2, labels_train)\n",
    "\n",
    "# 学習データとテストデータのカーネル行列を用いてテストデータのラベルを予測します。\n",
    "label_predict = qml_svc.predict(test_matrix_ex2)\n",
    "print(label_predict, labels_test, sep=\"\\n\")\n",
    "\n",
    "# テストデータの行列とテストラベルを入力として、.scoreを使ってデータをテストします。\n",
    "qml_score_precomputed_kernel = qml_svc.score(test_matrix_ex2, labels_test)\n",
    "print(f\"Precomputed kernel classification test score: {qml_score_precomputed_kernel}\")"
   ]
  },
  {
   "cell_type": "markdown",
   "id": "44908aa1",
   "metadata": {},
   "source": [
    "## 時間の余った方向け\n",
    "\n",
    "データセットunknown_dataが プルオーバー（ラベル2）、またはドレス（ラベル3）、どちらのデータセットであるかを学習した量子カーネル行列を使って、SVMで判別してください。データunknown_dataは、10個の同じラベルのデータセットを次元削除、正規化、スケーリングしたものです。"
   ]
  },
  {
   "cell_type": "code",
   "execution_count": null,
   "id": "b6dc563e-f9ad-4ff3-a7ee-d2df81a28be5",
   "metadata": {},
   "outputs": [],
   "source": [
    "unknown_data = [\n",
    "    [0.31559114, -0.22212598, -0.01367075, 0.26984272, 0.09538095],\n",
    "    [0.61950235, 0.11437916, -0.71187257, -0.20481753, 0.33026303],\n",
    "    [0.81223033, 0.16992666, 0.01845638, 0.03393138, 0.05011245],\n",
    "    [0.84295123, 0.07871908, -0.73484067, 0.05868912, 0.11878952],\n",
    "    [0.88399294, 0.05947462, -0.44905742, -0.41026581, -0.19594553],\n",
    "    [0.77159032, 0.19355832, 0.49900056, -1.0, -0.09096834],\n",
    "    [0.06948713, -0.5180201, 0.45473245, -0.02749577, -0.38410395],\n",
    "    [1.0, 0.20637581, -0.24059816, 0.24122204, 0.28130522],\n",
    "    [-0.13116065, -0.06375504, -0.1368573, 0.8475517, -0.01036726],\n",
    "    [-0.37941815, -0.76067967, -0.22019796, 0.17362436, -0.23302668]\n",
    "]"
   ]
  },
  {
   "cell_type": "code",
   "execution_count": null,
   "id": "7bd728f1-2c55-45b4-9486-f107ea76432a",
   "metadata": {},
   "outputs": [],
   "source": [
    "# 空のカーネル行列\n",
    "test_matrix_3 = np.full((test_size, train_size), np.nan) # 10x30のテスト用カーネル行列"
   ]
  },
  {
   "cell_type": "code",
   "execution_count": null,
   "id": "5d07b95d",
   "metadata": {},
   "outputs": [],
   "source": [
    "#コードを作成して下さい\n",
    "\n",
    "\n",
    "\n",
    "\n",
    "\n"
   ]
  },
  {
   "cell_type": "code",
   "execution_count": null,
   "id": "fd44df34-b45a-476a-82a3-8a36eaaf6cc7",
   "metadata": {},
   "outputs": [],
   "source": [
    "label_predict = qml_svc.predict(test_matrix_3)\n",
    "print(label_predict)"
   ]
  },
  {
   "cell_type": "code",
   "execution_count": null,
   "id": "f994d1f1",
   "metadata": {},
   "outputs": [],
   "source": [
    "import qiskit\n",
    "qiskit.__version__"
   ]
  },
  {
   "cell_type": "code",
   "execution_count": null,
   "id": "a54790ff-6cd3-458c-840c-d22fbf353f33",
   "metadata": {},
   "outputs": [],
   "source": []
  }
 ],
 "metadata": {
  "kernelspec": {
   "display_name": "Python 3 (ipykernel)",
   "language": "python",
   "name": "python3"
  },
  "language_info": {
   "codemirror_mode": {
    "name": "ipython",
    "version": 3
   },
   "file_extension": ".py",
   "mimetype": "text/x-python",
   "name": "python",
   "nbconvert_exporter": "python",
   "pygments_lexer": "ipython3",
   "version": "3.12.3"
  }
 },
 "nbformat": 4,
 "nbformat_minor": 5
}
