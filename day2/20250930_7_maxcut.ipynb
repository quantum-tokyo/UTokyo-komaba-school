{
 "cells": [
  {
   "cell_type": "markdown",
   "metadata": {},
   "source": [
    "IBM-UTokyo 量子コンピューティング・駒場スクール\n",
    "# 量子最適化アルゴリズムの紹介\n",
    "\n",
    "Yuri Kobayashi, IBM Quantum (Septemeber 30, 2025)</br>\n",
    "\n",
    "本ノートブックではMAXCUT問題を例に量子最適化アルゴリズムを実際に実装してみます。\n",
    "\n",
    "## MAXCUT問題\n",
    "MAXCUT問題は、グラフ理論という数学の分野に属する問題の一つです。グラフは、点（頂点）とそれをつなぐ線（辺）で構成されます。MAXCUT問題では、このグラフを二つのグループに分けて、各グループの間をつなぐ線の数を最大化することを目指します。\n",
    "MAXCUT問題は画像処理や通信網・交通網などのネットワーク計画、データ分析などに応用されます。\n",
    "\n",
    "\n",
    "### グラフの準備:\n",
    "まず、グラフを用意します。コンピューターでは[networkx](https://networkx.org/documentation/stable/tutorial.html)というライブラリを用いてグラフを表現します。ここでは、以下のようなグラフを考えます。\n",
    "下のグラフは頂点数4のグラフで、辺の数は4本です。"
   ]
  },
  {
   "cell_type": "code",
   "execution_count": null,
   "metadata": {},
   "outputs": [],
   "source": [
    "import networkx as nx\n",
    "\n",
    "seed = 100\n",
    "graph = nx.cycle_graph(4)\n",
    "nx.draw(\n",
    "    graph,\n",
    "    with_labels=True,\n",
    "    node_size=1000,\n",
    "    node_color=\"deepskyblue\",\n",
    "    pos=nx.circular_layout(graph),\n",
    ")"
   ]
  },
  {
   "cell_type": "markdown",
   "metadata": {},
   "source": [
    "## グラフの分割:\n",
    "このグラフを二つのグループに分けて、各グループの間をつなぐ線の数を最大化することを考えます。以下のように、グループ1に属する頂点を赤、グループ2に属する頂点を青で塗り分けることを考えます。"
   ]
  },
  {
   "cell_type": "code",
   "execution_count": null,
   "metadata": {},
   "outputs": [],
   "source": [
    "nx.draw(\n",
    "    graph,\n",
    "    with_labels=True,\n",
    "    node_size=1000,\n",
    "    pos=nx.circular_layout(graph),\n",
    "    node_color=[\"salmon\", \"deepskyblue\", \"salmon\", \"deepskyblue\"],\n",
    ")"
   ]
  },
  {
   "cell_type": "markdown",
   "metadata": {},
   "source": [
    "そうすると、グループ1とグループ2の間をつなぐ線の数は、4本になります。\n",
    "\n",
    "## 量子コンピューターを使って解いてみよう\n",
    "こんどは量子コンピューターを使ってMAXCUT問題を解いてみましょう。"
   ]
  },
  {
   "cell_type": "markdown",
   "metadata": {},
   "source": [
    "### 事前準備\n",
    "以下のセルを実行して、必要な関数を作成します。以下では、量子コンピューターを使って最適化問題を解くための基本的な関数が定義されています。"
   ]
  },
  {
   "cell_type": "markdown",
   "metadata": {},
   "source": [
    "`build_max_cut_paulis`は、MAXCUT問題を解くためのハミルトニアンを作成します。"
   ]
  },
  {
   "cell_type": "code",
   "execution_count": null,
   "metadata": {},
   "outputs": [],
   "source": [
    "\n",
    "def build_max_cut_paulis(graph: nx.Graph) -> list[tuple[str, float]]:\n",
    "    \"\"\"Convert the graph to Pauli list.\n",
    "\n",
    "    This function does the inverse of `build_max_cut_graph`\n",
    "    \"\"\"\n",
    "    pauli_list = []\n",
    "    for edge in graph.edges():\n",
    "        paulis = [\"I\"] * len(graph)\n",
    "        paulis[edge[0]], paulis[edge[1]] = \"Z\", \"Z\"\n",
    "\n",
    "        weight = graph.get_edge_data(edge[0], edge[1]).get(\"weight\", 1.0)\n",
    "\n",
    "        pauli_list.append((\"\".join(paulis)[::-1], weight))\n",
    "\n",
    "    return pauli_list"
   ]
  },
  {
   "cell_type": "markdown",
   "metadata": {},
   "source": [
    "`evaluate_sparse_pauli`は、得られたビット列とハミルトニアンを使って、得られたビット列の目的関数の値を計算します。\n",
    "\n",
    "`cost_func_sampler`は、Samplerを使って量子計算を行い、`evaluate_sparse_pauli`を使って目的関数の全体の値を計算します。"
   ]
  },
  {
   "cell_type": "code",
   "execution_count": null,
   "metadata": {},
   "outputs": [],
   "source": [
    "\n",
    "import numpy as np\n",
    "from qiskit.quantum_info import SparsePauliOp\n",
    "\n",
    "\n",
    "_PARITY = np.array(\n",
    "    [-1 if bin(i).count(\"1\") % 2 else 1 for i in range(256)], dtype=np.complex128\n",
    ")\n",
    "\n",
    "\n",
    "def evaluate_sparse_pauli(state: int, observable: SparsePauliOp) -> complex:\n",
    "    \"\"\"Utility for the evaluation of the expectation value of a measured state.\"\"\"\n",
    "    packed_uint8 = np.packbits(observable.paulis.z, axis=1, bitorder=\"little\")\n",
    "    state_bytes = np.frombuffer(\n",
    "        state.to_bytes(packed_uint8.shape[1], \"little\"), dtype=np.uint8\n",
    "    )\n",
    "    reduced = np.bitwise_xor.reduce(packed_uint8 & state_bytes, axis=1)\n",
    "    return np.sum(observable.coeffs * _PARITY[reduced])\n",
    "\n",
    "\n",
    "def cost_func_sampler(params, ansatz, hamiltonian, sampler):\n",
    "    job = sampler.run([(ansatz, params)])\n",
    "    sampler_result = job.result()\n",
    "    sampled_int_counts = sampler_result[0].data.meas.get_int_counts()\n",
    "    shots = sum(sampled_int_counts.values())\n",
    "    int_count_distribution = {\n",
    "        key: val / shots for key, val in sampled_int_counts.items()\n",
    "    }\n",
    "\n",
    "    # a dictionary containing: {state: (measurement probability, value)}\n",
    "    evaluated = {\n",
    "        state: (probability, np.real(evaluate_sparse_pauli(state, hamiltonian)))\n",
    "        for state, probability in int_count_distribution.items()\n",
    "    }\n",
    "\n",
    "    result = sum(probability * value for probability, value in evaluated.values())\n",
    "\n",
    "    global iter_counts, result_dict\n",
    "    iter_counts += 1\n",
    "    temp_dict = {}\n",
    "    temp_dict[\"params\"] = params.tolist()\n",
    "    temp_dict[\"fval\"] = result\n",
    "    temp_dict[\"distribution\"] = sampled_int_counts\n",
    "    temp_dict[\"evaluated\"] = evaluated\n",
    "    result_dict[iter_counts] = temp_dict\n",
    "    print(f\"Iteration {iter_counts}: {result}\")\n",
    "\n",
    "    return result"
   ]
  },
  {
   "cell_type": "markdown",
   "metadata": {},
   "source": [
    "まず、問題をハミルトニアンの形へ変換します。\n",
    "\n",
    "### 演習:　下記の`build_max_cut_paulis`関数にグラフを渡して、ハミルトニアンを作成してみましょう"
   ]
  },
  {
   "cell_type": "code",
   "execution_count": null,
   "metadata": {},
   "outputs": [],
   "source": [
    "max_cut_hamiltonian = build_max_cut_paulis(##ここに入力します##)\n",
    "print(max_cut_hamiltonian)"
   ]
  },
  {
   "cell_type": "markdown",
   "metadata": {},
   "source": [
    "次に、変換したハミルトニアンからパラメーター付き量子回路を作成します。今回はQiskitの`QAOAAnsatz`を使用してハミルトニアンから自動でQAOAのAnsatzを作成します。\n",
    "\n",
    "### 演習: 下記の`QAOAAnsatz`関数にハミルトニアンを渡して、QAOAのAnsatzを作成してみましょう"
   ]
  },
  {
   "cell_type": "code",
   "execution_count": null,
   "metadata": {},
   "outputs": [],
   "source": [
    "from qiskit.circuit.library import QAOAAnsatz\n",
    "\n",
    "\n",
    "# QAOAAnsatzにわたすために形式を変換します\n",
    "cost_hamiltonian = SparsePauliOp.from_list(max_cut_hamiltonian)\n",
    "\n",
    "ansatz = QAOAAnsatz(\n",
    "    ##以下にコードを入力してください##\n",
    "    \n",
    "    reps=1,\n",
    ").decompose()\n",
    "ansatz.measure_all()\n",
    "ansatz.decompose(reps=1).draw(output=\"mpl\", fold=False)"
   ]
  },
  {
   "cell_type": "markdown",
   "metadata": {},
   "source": [
    "量子ビットがそれぞれの頂点に対応しており、量子ビットの状態が0か1かで、その頂点がどちらのグループに属するかを表します。\n",
    "青い２量子ビットゲートがそれぞれの辺に対応しています。"
   ]
  },
  {
   "cell_type": "markdown",
   "metadata": {},
   "source": [
    "作成したパラメーター付き量子回路を基本ゲートにさらに分解してみます。'reps=2'に設定してからもう一度回路を実行してみます。\n",
    "### 演習: 同じ回路をさらに細かい基本ゲートに分解してみましょう"
   ]
  },
  {
   "cell_type": "code",
   "execution_count": null,
   "metadata": {},
   "outputs": [],
   "source": [
    "from qiskit.circuit.library import QAOAAnsatz\n",
    "\n",
    "\n",
    "# QAOAAnsatzにわたすために形式を変換します\n",
    "cost_hamiltonian = SparsePauliOp.from_list(max_cut_hamiltonian)\n",
    "\n",
    "ansatz = QAOAAnsatz(\n",
    "    cost_hamiltonian,\n",
    "    reps=1,\n",
    ").decompose()\n",
    "ansatz.measure_all()\n",
    "ansatz.decompose(reps=1).draw(output=\"mpl\", fold=False)  #reps=2に変更してから回路を表示してみましょう"
   ]
  },
  {
   "cell_type": "markdown",
   "metadata": {},
   "source": [
    "量子回路を今回はシミューレーターを使って計算を行います。計算には２，３分くらいかかります。\n",
    "\n",
    "\n",
    "下記セルでは計算のための準備として、シミュレーターを用意しています。"
   ]
  },
  {
   "cell_type": "code",
   "execution_count": null,
   "metadata": {},
   "outputs": [],
   "source": [
    "from qiskit.transpiler.preset_passmanagers import generate_preset_pass_manager\n",
    "from qiskit_ibm_runtime.fake_provider import FakeSherbrooke\n",
    "from qiskit_ibm_runtime import SamplerV2 as Sampler, QiskitRuntimeService\n",
    "\n",
    "service = QiskitRuntimeService()\n",
    "fake_backend = FakeSherbrooke()\n",
    "\n",
    "pm = generate_preset_pass_manager(backend=fake_backend, optimization_level=3)\n",
    "isa_qc = pm.run(ansatz)\n",
    "\n",
    "# You can use a fixed seed to get fixed results.\n",
    "options = {\"simulator\": {\"seed_simulator\": 42}}\n",
    "sampler = Sampler(mode=fake_backend, options=options)"
   ]
  },
  {
   "cell_type": "markdown",
   "metadata": {},
   "source": [
    "`minimize`関数に上で準備した`cost_func_sampler`関数と量子回路、ハミルトニアンを渡します。パラメーターを変えながら繰り返し実行し、最適化を行います。\n",
    "\n",
    "\n",
    "### 演習: 下記の`minimize`関数に`cost_func_sampler`関数を渡して、最適化を行ってみましょう"
   ]
  },
  {
   "cell_type": "code",
   "execution_count": null,
   "metadata": {},
   "outputs": [],
   "source": [
    "from scipy.optimize import minimize\n",
    "\n",
    "initial_gamma = np.pi\n",
    "initial_beta = np.pi / 2\n",
    "init_params = [initial_gamma, initial_beta]\n",
    "\n",
    "iter_counts = 0\n",
    "result_dict = {}\n",
    "\n",
    "result = minimize(\n",
    "    cost_func_sampler,\n",
    "    init_params,\n",
    "    args=(isa_qc, cost_hamiltonian, sampler),\n",
    "    method=\"COBYLA\",\n",
    "    tol=1e-2,\n",
    ")\n",
    "print(result)"
   ]
  },
  {
   "cell_type": "markdown",
   "metadata": {},
   "source": [
    "実験結果を表示してみましょう"
   ]
  },
  {
   "cell_type": "code",
   "execution_count": null,
   "metadata": {},
   "outputs": [],
   "source": [
    "import matplotlib.pyplot as plt\n",
    "\n",
    "plt.plot([result_dict[i][\"fval\"] for i in result_dict])\n",
    "plt.xlabel(\"Iterations\")\n",
    "plt.ylabel(\"Cost function value\")\n",
    "plt.title(\"QAOA optimization\")\n",
    "plt.show()"
   ]
  },
  {
   "cell_type": "markdown",
   "metadata": {},
   "source": [
    "目的関数の値が段々と小さくなっていっていることが分かります。"
   ]
  },
  {
   "cell_type": "markdown",
   "metadata": {},
   "source": [
    "`calc_edges`関数を用いて、最終的な解を表示してみましょう。"
   ]
  },
  {
   "cell_type": "code",
   "execution_count": null,
   "metadata": {},
   "outputs": [],
   "source": [
    "sorted_evaluated = sorted(\n",
    "    result_dict[iter_counts][\"evaluated\"].items(), key=lambda x: x[1][1]\n",
    ")\n",
    "\n",
    "# convert the state to binary\n",
    "state = sorted_evaluated[0][0]\n",
    "state_bin = format(state, \"010b\")\n",
    "\n",
    "def calc_edges(state_bin, cost_operator):\n",
    "    edges = []\n",
    "    for pauli in cost_operator.paulis:\n",
    "        temp = []\n",
    "        for i, p in enumerate(pauli):\n",
    "            if str(p) == \"Z\":\n",
    "                temp.append(i)\n",
    "        if state_bin[temp[0]] != state_bin[temp[1]]:\n",
    "            edges.append(temp)\n",
    "    return edges\n",
    "\n",
    "\n",
    "edges = calc_edges(state_bin[::-1], cost_hamiltonian)\n",
    "print(len(edges), edges)"
   ]
  },
  {
   "cell_type": "code",
   "execution_count": null,
   "metadata": {},
   "outputs": [],
   "source": [
    "node_color = [\n",
    "    \"salmon\" if int(state_bin[::-1][node]) else \"deepskyblue\" for node in graph.nodes\n",
    "]\n",
    "nx.draw(\n",
    "    graph,\n",
    "    with_labels=True,\n",
    "    node_size=1000,\n",
    "    node_color=node_color,\n",
    "    pos=nx.circular_layout(graph),\n",
    ")"
   ]
  },
  {
   "cell_type": "markdown",
   "metadata": {},
   "source": [
    "グループの分け方は少し違いますが、グループ間をつなぐ辺の数を最大化することができました。"
   ]
  },
  {
   "cell_type": "markdown",
   "metadata": {},
   "source": [
    "## 100量子ビットを使って実験してみよう"
   ]
  },
  {
   "cell_type": "markdown",
   "metadata": {},
   "source": [
    "127量子ビットデバイスを使って、100量子ビットのMAXCUT問題を解いてみましょう。まずデバイスを用意します。"
   ]
  },
  {
   "cell_type": "code",
   "execution_count": null,
   "metadata": {},
   "outputs": [],
   "source": [
    "from qiskit_ibm_runtime import QiskitRuntimeService\n",
    "\n",
    "your_api_key = \"deleteThisAndPasteYourAPIKeyHere\"\n",
    "your_crn = \"deleteThisAndPasteYourCRNHere\"\n",
    "\n",
    "service = QiskitRuntimeService.save_account(\n",
    "    channel=\"ibm_cloud\",\n",
    "    token=your_api_key, \n",
    "    instance=your_crn, \n",
    "    set_as_default=True, \n",
    "    overwrite=True,\n",
    ")"
   ]
  },
  {
   "cell_type": "code",
   "execution_count": null,
   "metadata": {},
   "outputs": [],
   "source": [
    "from qiskit_ibm_runtime import QiskitRuntimeService\n",
    "service = QiskitRuntimeService()\n",
    "service.backends()"
   ]
  },
  {
   "cell_type": "code",
   "execution_count": null,
   "metadata": {},
   "outputs": [],
   "source": [
    "# 以下でデバイスを指定できます。\n",
    "backend = service.backend('ibm_brisbane') "
   ]
  },
  {
   "cell_type": "code",
   "execution_count": null,
   "metadata": {},
   "outputs": [],
   "source": [
    "#一番空いているバックエンドを自動的に選択することもできます\n",
    "backend = service.least_busy(operational=True)\n",
    "print(\"最も空いているバックエンドは: \", backend)"
   ]
  },
  {
   "cell_type": "markdown",
   "metadata": {},
   "source": [
    "実際のデバイスでは量子ビットが下図のように結合されていて、全ての量子ビットがお互いにつながっているわけではありません。今回は実際のデバイスの量子ビットの結合関係を考慮して下図の１００ノードのグラフを作成します。"
   ]
  },
  {
   "cell_type": "code",
   "execution_count": null,
   "metadata": {},
   "outputs": [],
   "source": [
    "n = 100  # Number of nodes in graph\n",
    "graph_100 = nx.Graph()\n",
    "graph_100.add_nodes_from(np.arange(0, n, 1))\n",
    "elist = []\n",
    "for edge in backend.coupling_map:\n",
    "    if edge[0] < n and edge[1] < n:\n",
    "        elist.append((edge[0], edge[1]))\n",
    "graph_100.add_edges_from(elist)\n",
    "nx.draw(\n",
    "    graph_100,\n",
    "    node_size=200,\n",
    "    with_labels=True,\n",
    "    width=1,\n",
    "    pos=nx.kamada_kawai_layout(graph_100),\n",
    ")"
   ]
  },
  {
   "cell_type": "markdown",
   "metadata": {},
   "source": [
    "今回は上記グラフのMAXCUT問題を解いてみましょう。\n",
    "\n",
    "さきほどの小さいサイズの問題の場合と同じように、まず`build_max_cut_paulis`関数にグラフを渡して、ハミルトニアンを作成します。"
   ]
  },
  {
   "cell_type": "code",
   "execution_count": null,
   "metadata": {},
   "outputs": [],
   "source": [
    "max_cut_paulis_100 = build_max_cut_paulis(graph_100)\n",
    "\n",
    "cost_hamiltonian_100 = SparsePauliOp.from_list(max_cut_paulis_100)\n",
    "print(\"Cost Function Hamiltonian:\", cost_hamiltonian_100)"
   ]
  },
  {
   "cell_type": "markdown",
   "metadata": {},
   "source": [
    "`QAOAAnsatz`関数にハミルトニアンを渡して、QAOAのAnsatzを作成します。"
   ]
  },
  {
   "cell_type": "code",
   "execution_count": null,
   "metadata": {},
   "outputs": [],
   "source": [
    "circuit_100 = QAOAAnsatz(cost_operator=cost_hamiltonian_100, reps=2)\n",
    "circuit_100.measure_all()\n",
    "\n",
    "circuit_100.draw(\"mpl\", fold=False, scale=0.1, idle_wires=False)"
   ]
  },
  {
   "cell_type": "markdown",
   "metadata": {},
   "source": [
    "作成した量子回路を表示してみましょう。"
   ]
  },
  {
   "cell_type": "code",
   "execution_count": null,
   "metadata": {},
   "outputs": [],
   "source": [
    "pm = generate_preset_pass_manager(optimization_level=3, backend=backend)\n",
    "\n",
    "candidate_circuit_100 = pm.run(circuit_100)\n",
    "candidate_circuit_100.draw(\"mpl\", fold=False, scale=0.1, idle_wires=False)"
   ]
  },
  {
   "cell_type": "markdown",
   "metadata": {},
   "source": [
    "大きなサイズの量子回路になっています。"
   ]
  },
  {
   "cell_type": "markdown",
   "metadata": {},
   "source": [
    "## 量子回路の最適化\n",
    "実は最適化問題で使用している量子回路そのものも最適化することができます。それにより、量子回路の深さや全体のゲートの個数を減らすことが可能です。\n",
    "今回は、最適化問題を解くための量子回路を最適化する方法を少し紹介します。パワーポイントの付録を参照してください。"
   ]
  },
  {
   "cell_type": "markdown",
   "metadata": {},
   "source": [
    "### 事前準備\n",
    "以下のセルを実行して、必要な関数を作成します。以下については、本授業の範囲外になるので詳しく説明しませんが、量子回路の最適化に必要な関数が定義されています。以下のプログラムが分からなくても問題ありません。"
   ]
  },
  {
   "cell_type": "markdown",
   "metadata": {},
   "source": [
    "今回の量子回路の最適化ではSwap strategy[1]とSAT initial mapping[2]と呼ばれる手法を使います。\n",
    "\n",
    "[1] Weidenfeller, J., Valor, L. C., Gacon, J., Tornow, C., Bello, L., Woerner, S., & Egger, D. J. (2022). Scaling of the quantum approximate optimization algorithm on superconducting qubit based hardware. Quantum, 6, 870.\n",
    "\n",
    "[2] Matsuo, A., Yamashita, S., & Egger, D. J. (2023). A SAT approach to the initial mapping problem in SWAP gate insertion for commuting gates. IEICE Transactions on Fundamentals of Electronics, Communications and Computer Sciences, 106(11), 1424-1431."
   ]
  },
  {
   "cell_type": "markdown",
   "metadata": {},
   "source": [
    "量子ビットの結合関係をもとに、Swap strategyを準備します。"
   ]
  },
  {
   "cell_type": "code",
   "execution_count": null,
   "metadata": {},
   "outputs": [],
   "source": [
    "from qiskit.transpiler import CouplingMap\n",
    "from qiskit.transpiler.passes.routing.commuting_2q_gate_routing import SwapStrategy\n",
    "\n",
    "\n",
    "swap_strategy = SwapStrategy(CouplingMap(list(graph_100.edges())), ((())))"
   ]
  },
  {
   "cell_type": "markdown",
   "metadata": {},
   "source": [
    "下記の回路最適化につかうツールに必要なpythonライブラリをインストールします。"
   ]
  },
  {
   "cell_type": "code",
   "execution_count": null,
   "metadata": {},
   "outputs": [],
   "source": [
    "%pip install python-sat\n",
    "# Google Colabで実行している方は以下の # を取り除いてインストールを実行してください\n",
    "#!pip install python-sat"
   ]
  },
  {
   "cell_type": "markdown",
   "metadata": {},
   "source": [
    "SAT initial mappingに必要な関数を準備します。"
   ]
  },
  {
   "cell_type": "code",
   "execution_count": null,
   "metadata": {},
   "outputs": [],
   "source": [
    "\"\"\"A class to solve the SWAP gate insertion initial mapping problem\n",
    "using the SAT approach from https://arxiv.org/abs/2212.05666.\n",
    "\"\"\"\n",
    "\n",
    "from __future__ import annotations\n",
    "\n",
    "from dataclasses import dataclass\n",
    "from itertools import combinations\n",
    "from threading import Timer\n",
    "\n",
    "import numpy as np\n",
    "\n",
    "from pysat.formula import CNF, IDPool\n",
    "from pysat.solvers import Solver\n",
    "\n",
    "\n",
    "@dataclass\n",
    "class SATResult:\n",
    "    \"\"\"A data class to hold the result of a SAT solver.\"\"\"\n",
    "\n",
    "    satisfiable: (\n",
    "        bool  # Satisfiable is True if the SAT model could be solved in a given time.\n",
    "    )\n",
    "    solution: dict  # The solution to the SAT problem if it is satisfiable.\n",
    "    mapping: (\n",
    "        list  # The mapping of nodes in the pattern graph to nodes in the target graph.\n",
    "    )\n",
    "    elapsed_time: float  # The time it took to solve the SAT model.\n",
    "\n",
    "\n",
    "class SATMapper:\n",
    "    r\"\"\"A class to introduce a SAT-approach to solve\n",
    "    the initial mapping problem in SWAP gate insertion for commuting gates.\n",
    "\n",
    "    When this pass is run on a DAG it will look for the first instance of\n",
    "    :class:`.Commuting2qBlock` and use the program graph :math:`P` of this block of gates to\n",
    "    find a layout for a given swap strategy. This layout is found with a\n",
    "    binary search over the layers :math:`l` of the swap strategy. At each considered layer\n",
    "    a subgraph isomorphism problem formulated as a SAT is solved by a SAT solver. Each instance\n",
    "    is whether it is possible to embed the program graph :math:`P` into the effective\n",
    "    connectivity graph :math:`C_l` that is achieved by applying :math:`l` layers of the\n",
    "    swap strategy to the coupling map :math:`C_0` of the backend. Since solving SAT problems\n",
    "    can be hard, a ``time_out`` fixes the maximum time allotted to the SAT solver for each\n",
    "    instance. If this time is exceeded the considered problem is deemed unsatisfiable and\n",
    "    the binary search proceeds to the next number of swap layers :math:``l``.\n",
    "    \"\"\"\n",
    "\n",
    "    def __init__(self, timeout: int = 60):\n",
    "        \"\"\"Initialize the SATMapping.\n",
    "\n",
    "        Args:\n",
    "            timeout: The allowed time in seconds for each iteration of the SAT solver. This\n",
    "                variable defaults to 60 seconds.\n",
    "        \"\"\"\n",
    "        self.timeout = timeout\n",
    "\n",
    "    def find_initial_mappings(\n",
    "        self,\n",
    "        program_graph: nx.Graph,\n",
    "        swap_strategy: SwapStrategy,\n",
    "        min_layers: int | None = None,\n",
    "        max_layers: int | None = None,\n",
    "    ) -> dict[int, SATResult]:\n",
    "        r\"\"\"Find an initial mapping for a given swap strategy. Perform a binary search\n",
    "        over the number of swap layers, and for each number of swap layers solve a\n",
    "        subgraph isomorphism problem formulated as a SAT problem.\n",
    "\n",
    "        Args:\n",
    "            program_graph (nx.Graph): The program graph with commuting gates, where\n",
    "                                        each edge represents a two-qubit gate.\n",
    "            swap_strategy (SwapStrategy): The swap strategy to use to find the initial mapping.\n",
    "            min_layers (int): The minimum number of swap layers to consider. Defaults to\n",
    "            the maximum degree of the program graph - 2.\n",
    "            max_layers (int): The maximum number of swap layers to consider. Defaults to\n",
    "            the number of qubits in the swap strategy - 2.\n",
    "\n",
    "        Returns:\n",
    "            dict[int, SATResult]: A dictionary containing the results of the SAT solver for\n",
    "                                    each number of swap layers.\n",
    "        \"\"\"\n",
    "        # pylint: disable=too-many-locals\n",
    "        num_nodes_g1 = len(program_graph.nodes)\n",
    "        num_nodes_g2 = swap_strategy.distance_matrix.shape[0]\n",
    "        if num_nodes_g1 > num_nodes_g2:\n",
    "            return SATResult(False, [], [], 0)\n",
    "        if min_layers is None:\n",
    "            # use the maximum degree of the program graph - 2 as the lower bound.\n",
    "            min_layers = max((d for _, d in program_graph.degree)) - 2\n",
    "        if max_layers is None:\n",
    "            max_layers = num_nodes_g2 - 1\n",
    "\n",
    "        variable_pool = IDPool(start_from=1)\n",
    "        variables = np.array(\n",
    "            [\n",
    "                [variable_pool.id(f\"v_{i}_{j}\") for j in range(num_nodes_g2)]\n",
    "                for i in range(num_nodes_g1)\n",
    "            ],\n",
    "            dtype=int,\n",
    "        )\n",
    "        vid2mapping = {v: idx for idx, v in np.ndenumerate(variables)}\n",
    "        binary_search_results = {}\n",
    "\n",
    "        def interrupt(solver):\n",
    "            # This function is called to interrupt the solver when the timeout is reached.\n",
    "            solver.interrupt()\n",
    "\n",
    "        # Make a cnf for the one-to-one mapping constraint\n",
    "        cnf1 = []\n",
    "        for i in range(num_nodes_g1):\n",
    "            clause = variables[i, :].tolist()\n",
    "            cnf1.append(clause)\n",
    "            for k, m in combinations(clause, 2):\n",
    "                cnf1.append([-1 * k, -1 * m])\n",
    "        for j in range(num_nodes_g2):\n",
    "            clause = variables[:, j].tolist()\n",
    "            for k, m in combinations(clause, 2):\n",
    "                cnf1.append([-1 * k, -1 * m])\n",
    "\n",
    "        # Perform a binary search over the number of swap layers to find the minimum\n",
    "        # number of swap layers that satisfies the subgraph isomorphism problem.\n",
    "        while min_layers < max_layers:\n",
    "            num_layers = (min_layers + max_layers) // 2\n",
    "\n",
    "            # Create the connectivity matrix. Note that if the swap strategy cannot reach\n",
    "            # full connectivity then its distance matrix will have entries with -1. These\n",
    "            # entries must be treated as False.\n",
    "            d_matrix = swap_strategy.distance_matrix\n",
    "            connectivity_matrix = ((-1 < d_matrix) & (d_matrix <= num_layers)).astype(\n",
    "                int\n",
    "            )\n",
    "            # Make a cnf for the adjacency constraint\n",
    "            cnf2 = []\n",
    "            for e_0, e_1 in program_graph.edges:\n",
    "                clause_matrix = np.multiply(connectivity_matrix, variables[e_1, :])\n",
    "                clause = np.concatenate(\n",
    "                    (\n",
    "                        [[-variables[e_0, i]] for i in range(num_nodes_g2)],\n",
    "                        clause_matrix,\n",
    "                    ),\n",
    "                    axis=1,\n",
    "                )\n",
    "                # Remove 0s from each clause\n",
    "                cnf2.extend([c[c != 0].tolist() for c in clause])\n",
    "\n",
    "            cnf = CNF(from_clauses=cnf1 + cnf2)\n",
    "\n",
    "            with Solver(bootstrap_with=cnf, use_timer=True) as solver:\n",
    "                # Solve the SAT problem with a timeout.\n",
    "                # Timer is used to interrupt the solver when the timeout is reached.\n",
    "                timer = Timer(self.timeout, interrupt, [solver])\n",
    "                timer.start()\n",
    "                status = solver.solve_limited(expect_interrupt=True)\n",
    "                timer.cancel()\n",
    "                # Get the solution and the elapsed time.\n",
    "                sol = solver.get_model()\n",
    "                e_time = solver.time()\n",
    "\n",
    "                if status:\n",
    "                    # If the SAT problem is satisfiable, convert the solution to a mapping.\n",
    "                    mapping = [vid2mapping[idx] for idx in sol if idx > 0]\n",
    "                    binary_search_results[num_layers] = SATResult(\n",
    "                        status, sol, mapping, e_time\n",
    "                    )\n",
    "                    max_layers = num_layers\n",
    "                else:\n",
    "                    # If the SAT problem is unsatisfiable, return the last satisfiable solution.\n",
    "                    binary_search_results[num_layers] = SATResult(\n",
    "                        status, sol, [], e_time\n",
    "                    )\n",
    "                    min_layers = num_layers + 1\n",
    "\n",
    "        return binary_search_results\n",
    "\n",
    "    def remap_graph_with_sat(\n",
    "        self, graph: nx.Graph, swap_strategy\n",
    "    ) -> tuple[int, dict, list] | tuple[None, None, None]:\n",
    "        \"\"\"Applies the SAT mapping.\n",
    "\n",
    "        Args:\n",
    "            graph (nx.Graph): The graph to remap.\n",
    "            swap_strategy (SwapStrategy): The swap strategy to use to find the initial mapping.\n",
    "\n",
    "        Returns:\n",
    "            tuple: A tuple containing the remapped graph, the edge map, and the number of layers of\n",
    "            the swap strategy that was used to find the initial mapping. If no solution is found\n",
    "            then the tuple contains None for each element.\n",
    "            Note the returned edge map `{k: v}` means that node `k` in the original\n",
    "            graph gets mapped to node `v` in the Pauli strings.\n",
    "        \"\"\"\n",
    "        num_nodes = len(graph.nodes)\n",
    "        results = self.find_initial_mappings(graph, swap_strategy, 0, num_nodes - 1)\n",
    "        solutions = [k for k, v in results.items() if v.satisfiable]\n",
    "        if len(solutions):\n",
    "            min_k = min(solutions)\n",
    "            edge_map = dict(results[min_k].mapping)\n",
    "            remapped_graph = nx.relabel_nodes(graph, edge_map)\n",
    "            return remapped_graph, edge_map, min_k\n",
    "        else:\n",
    "            return None, None, None"
   ]
  },
  {
   "cell_type": "markdown",
   "metadata": {},
   "source": [
    "SAT initial mappingを計算します。"
   ]
  },
  {
   "cell_type": "code",
   "execution_count": null,
   "metadata": {},
   "outputs": [],
   "source": [
    "sm = SATMapper(timeout=10)\n",
    "remapped_graph, edge_map, min_swap_layers = sm.remap_graph_with_sat(\n",
    "    graph=graph_100, swap_strategy=swap_strategy\n",
    ")"
   ]
  },
  {
   "cell_type": "markdown",
   "metadata": {},
   "source": [
    "計算結果をもとにハミルトニアンの要素を並び替えます。"
   ]
  },
  {
   "cell_type": "code",
   "execution_count": null,
   "metadata": {},
   "outputs": [],
   "source": [
    "remapped_max_cut_paulis = build_max_cut_paulis(remapped_graph)\n",
    "remapped_cost_operator = SparsePauliOp.from_list(remapped_max_cut_paulis)"
   ]
  },
  {
   "cell_type": "markdown",
   "metadata": {},
   "source": [
    "最適化した量子回路を作成するための関数を準備します。"
   ]
  },
  {
   "cell_type": "code",
   "execution_count": null,
   "metadata": {},
   "outputs": [],
   "source": [
    "\n",
    "from qiskit.circuit import QuantumCircuit\n",
    "from qiskit.transpiler import PassManager\n",
    "from qiskit.transpiler.passes.routing.commuting_2q_gate_routing import (\n",
    "    FindCommutingPauliEvolutions,\n",
    "    Commuting2qGateRouter,\n",
    ")\n",
    "from qiskit.circuit.library import QAOAAnsatz\n",
    "from qiskit.circuit import ParameterVector\n",
    "\n",
    "\n",
    "def make_meas_map(circuit: QuantumCircuit) -> dict:\n",
    "    \"\"\"Return a mapping from qubit index (the key) to classical bit (the value).\n",
    "\n",
    "    This allows us to account for the swapping order introduced by the SwapStrategy.\n",
    "    \"\"\"\n",
    "    creg = circuit.cregs[0]\n",
    "    qreg = circuit.qregs[0]\n",
    "\n",
    "    meas_map = {}\n",
    "    for inst in circuit.data:\n",
    "        if inst.operation.name == \"measure\":\n",
    "            meas_map[qreg.index(inst.qubits[0])] = creg.index(inst.clbits[0])\n",
    "\n",
    "    return meas_map\n",
    "\n",
    "\n",
    "def apply_swap_strategy(\n",
    "    circuit: QuantumCircuit,\n",
    "    swap_strategy: SwapStrategy,\n",
    "    edge_coloring: dict[tuple[int, int], int] | None = None,\n",
    ") -> QuantumCircuit:\n",
    "    \"\"\"Transpile with a SWAP strategy.\n",
    "\n",
    "    Returns:\n",
    "        A quantum circuit transpiled with the given swap strategy.\n",
    "    \"\"\"\n",
    "\n",
    "    pm_pre = PassManager(\n",
    "        [\n",
    "            FindCommutingPauliEvolutions(),\n",
    "            Commuting2qGateRouter(\n",
    "                swap_strategy,\n",
    "                edge_coloring,\n",
    "            ),\n",
    "        ]\n",
    "    )\n",
    "    return pm_pre.run(circuit)\n",
    "\n",
    "\n",
    "def apply_qaoa_layers(  # pylint: disable=too-many-arguments,too-many-locals\n",
    "    cost_layer: QuantumCircuit,\n",
    "    meas_map: dict,\n",
    "    num_layers: int,\n",
    "    gamma: list[float] | ParameterVector = None,\n",
    "    beta: list[float] | ParameterVector = None,\n",
    "    initial_state: QuantumCircuit = None,\n",
    "    mixer: QuantumCircuit = None,\n",
    "):\n",
    "    \"\"\"Applies QAOA layers to construct circuit.\n",
    "\n",
    "    First, the initial state is applied. If `initial_state` is None we begin in the\n",
    "    initial superposition state. Next, we alternate between layers of the cot operator\n",
    "    and the mixer. The cost operator is alternatively applied in order and in reverse\n",
    "    instruction order. This allows us to apply the swap-strategy on odd `p` layers\n",
    "    and undo the swap strategy on even `p` layers.\n",
    "    \"\"\"\n",
    "\n",
    "    num_qubits = cost_layer.num_qubits\n",
    "    new_circuit = QuantumCircuit(num_qubits, num_qubits)\n",
    "\n",
    "    if initial_state is not None:\n",
    "        new_circuit.append(initial_state, range(num_qubits))\n",
    "    else:\n",
    "        # all h state by default\n",
    "        new_circuit.h(range(num_qubits))\n",
    "\n",
    "    if gamma is None or beta is None:\n",
    "        gamma = ParameterVector(\"γ\", num_layers)\n",
    "        if mixer is None or mixer.num_parameters == 0:\n",
    "            beta = ParameterVector(\"β\", num_layers)\n",
    "        else:\n",
    "            beta = ParameterVector(\"β\", num_layers * mixer.num_parameters)\n",
    "\n",
    "    if mixer is not None:\n",
    "        mixer_layer = mixer\n",
    "    else:\n",
    "        mixer_layer = QuantumCircuit(num_qubits)\n",
    "        mixer_layer.rx(-2 * beta[0], range(num_qubits))\n",
    "\n",
    "    for layer in range(num_layers):\n",
    "        bind_dict = {cost_layer.parameters[0]: gamma[layer]}\n",
    "        cost_layer_ = cost_layer.assign_parameters(bind_dict)\n",
    "        bind_dict = {\n",
    "            mixer_layer.parameters[i]: beta[layer + i]\n",
    "            for i in range(mixer_layer.num_parameters)\n",
    "        }\n",
    "        layer_mixer = mixer_layer.assign_parameters(bind_dict)\n",
    "\n",
    "        if layer % 2 == 0:\n",
    "            new_circuit.append(cost_layer_, range(num_qubits))\n",
    "        else:\n",
    "            new_circuit.append(cost_layer_.reverse_ops(), range(num_qubits))\n",
    "\n",
    "        new_circuit.append(layer_mixer, range(num_qubits))\n",
    "\n",
    "    for qidx, cidx in meas_map.items():\n",
    "        new_circuit.measure(qidx, cidx)\n",
    "\n",
    "    return new_circuit\n",
    "\n",
    "\n",
    "def create_qaoa_swap_circuit(  # pylint: disable=too-many-arguments\n",
    "    cost_operator: SparsePauliOp,\n",
    "    swap_strategy: SwapStrategy,\n",
    "    edge_coloring: dict = None,\n",
    "    theta: list[float] = None,\n",
    "    qaoa_layers: int = 1,\n",
    "    initial_state: QuantumCircuit = None,\n",
    "    mixer: QuantumCircuit = None,\n",
    "):\n",
    "    \"\"\"Create the circuit for QAOA.\n",
    "\n",
    "    Notes: This circuit construction for QAOA works for quadratic terms in `Z` and will be\n",
    "    extended to first-order terms in `Z`. Higher-orders are not supported.\n",
    "\n",
    "    Args:\n",
    "        cost_operator: the cost operator.\n",
    "        swap_strategy: selected swap strategy\n",
    "        edge_coloring: A coloring of edges that should correspond to the coupling\n",
    "            map of the hardware. It defines the order in which we apply the Rzz\n",
    "            gates. This allows us to choose an ordering such that `Rzz` gates will\n",
    "            immediately precede SWAP gates to leverage CNOT cancellation.\n",
    "        theta: The QAOA angles.\n",
    "        qaoa_layers: The number of layers of the cost-operator and the mixer operator.\n",
    "        initial_state: The initial state on which we apply layers of cost-operator\n",
    "            and mixer.\n",
    "        mixer: The QAOA mixer. It will be applied as is onto the QAOA circuit. Therefore,\n",
    "            its output must have the same ordering of qubits as its input.\n",
    "    \"\"\"\n",
    "\n",
    "    num_qubits = cost_operator.num_qubits\n",
    "\n",
    "    if theta is not None:\n",
    "        gamma = theta[: len(theta) // 2]\n",
    "        beta = theta[len(theta) // 2 :]\n",
    "        qaoa_layers = len(theta) // 2\n",
    "    else:\n",
    "        gamma = beta = None\n",
    "\n",
    "    # First, create the ansatz of 1 layer of QAOA without mixer\n",
    "    cost_layer = QAOAAnsatz(\n",
    "        cost_operator,\n",
    "        reps=1,\n",
    "        initial_state=QuantumCircuit(num_qubits),\n",
    "        mixer_operator=QuantumCircuit(num_qubits),\n",
    "    ).decompose()\n",
    "\n",
    "    # This will allow us to recover the permutation of the measurements that the swap introduce.\n",
    "    cost_layer.measure_all()\n",
    "\n",
    "    # Now, apply the swap strategy for commuting pauli evolution gates\n",
    "    cost_layer = apply_swap_strategy(cost_layer, swap_strategy, edge_coloring)\n",
    "\n",
    "    # Compute the measurement map (qubit to classical bit).\n",
    "    # we will apply this for qaoa_layers % 2 == 1.\n",
    "    if qaoa_layers % 2 == 1:\n",
    "        meas_map = make_meas_map(cost_layer)\n",
    "    else:\n",
    "        meas_map = {idx: idx for idx in range(num_qubits)}\n",
    "\n",
    "    cost_layer.remove_final_measurements()\n",
    "\n",
    "    # Finally, introduce the mixer circuit and add measurements following measurement map\n",
    "    circuit = apply_qaoa_layers(\n",
    "        cost_layer, meas_map, qaoa_layers, gamma, beta, initial_state, mixer\n",
    "    )\n",
    "\n",
    "    return circuit"
   ]
  },
  {
   "cell_type": "markdown",
   "metadata": {},
   "source": [
    "量子ゲートの入れ替えを行う方法を指定しています。\n",
    "0, 1, 2がそれぞれのレイヤーに対応しています。"
   ]
  },
  {
   "cell_type": "code",
   "execution_count": null,
   "metadata": {},
   "outputs": [],
   "source": [
    "\n",
    "edge_coloring = {\n",
    "    (0, 1): 0,\n",
    "    (0, 14): 1,\n",
    "    (1, 2): 1,\n",
    "    (2, 3): 2,\n",
    "    (4, 3): 0,\n",
    "    (4, 15): 1,\n",
    "    (5, 4): 2,\n",
    "    (6, 5): 0,\n",
    "    (7, 6): 1,\n",
    "    (7, 8): 0,\n",
    "    (8, 9): 1,\n",
    "    (10, 9): 0,\n",
    "    (10, 11): 1,\n",
    "    (11, 12): 0,\n",
    "    (13, 12): 2,\n",
    "    (14, 18): 0,\n",
    "    (16, 8): 2,\n",
    "    (17, 12): 1,\n",
    "    (17, 30): 0,\n",
    "    (19, 18): 1,\n",
    "    (20, 19): 0,\n",
    "    (21, 20): 1,\n",
    "    (21, 22): 0,\n",
    "    (22, 15): 2,\n",
    "    (22, 23): 1,\n",
    "    (23, 24): 0,\n",
    "    (24, 25): 1,\n",
    "    (26, 16): 0,\n",
    "    (26, 25): 2,\n",
    "    (26, 27): 1,\n",
    "    (28, 27): 0,\n",
    "    (29, 28): 1,\n",
    "    (29, 30): 2,\n",
    "    (31, 30): 1,\n",
    "    (31, 32): 0,\n",
    "    (33, 20): 2,\n",
    "    (33, 39): 0,\n",
    "    (34, 24): 2,\n",
    "    (35, 28): 2,\n",
    "    (35, 47): 0,\n",
    "    (36, 32): 1,\n",
    "    (36, 51): 0,\n",
    "    (37, 38): 0,\n",
    "    (37, 52): 1,\n",
    "    (39, 38): 1,\n",
    "    (40, 39): 2,\n",
    "    (40, 41): 0,\n",
    "    (42, 41): 1,\n",
    "    (42, 43): 0,\n",
    "    (43, 34): 1,\n",
    "    (44, 43): 2,\n",
    "    (45, 44): 0,\n",
    "    (45, 46): 1,\n",
    "    (46, 47): 2,\n",
    "    (48, 47): 1,\n",
    "    (48, 49): 0,\n",
    "    (50, 49): 1,\n",
    "    (50, 51): 2,\n",
    "    (53, 41): 2,\n",
    "    (53, 60): 0,\n",
    "    (54, 45): 2,\n",
    "    (54, 64): 0,\n",
    "    (55, 49): 2,\n",
    "    (56, 52): 0,\n",
    "    (57, 56): 1,\n",
    "    (57, 58): 0,\n",
    "    (58, 59): 1,\n",
    "    (58, 71): 2,\n",
    "    (59, 60): 2,\n",
    "    (60, 61): 1,\n",
    "    (61, 62): 0,\n",
    "    (63, 62): 1,\n",
    "    (63, 64): 2,\n",
    "    (64, 65): 1,\n",
    "    (66, 65): 0,\n",
    "    (66, 67): 1,\n",
    "    (67, 68): 0,\n",
    "    (68, 55): 1,\n",
    "    (68, 69): 2,\n",
    "    (69, 70): 0,\n",
    "    (70, 74): 1,\n",
    "    (72, 62): 2,\n",
    "    (72, 81): 0,\n",
    "    (73, 66): 2,\n",
    "    (73, 85): 0,\n",
    "    (75, 76): 1,\n",
    "    (75, 90): 0,\n",
    "    (76, 77): 0,\n",
    "    (77, 71): 1,\n",
    "    (77, 78): 2,\n",
    "    (79, 78): 0,\n",
    "    (80, 79): 1,\n",
    "    (80, 81): 2,\n",
    "    (82, 81): 1,\n",
    "    (82, 83): 0,\n",
    "    (84, 83): 1,\n",
    "    (85, 84): 2,\n",
    "    (85, 86): 1,\n",
    "    (87, 86): 0,\n",
    "    (87, 93): 2,\n",
    "    (88, 87): 1,\n",
    "    (88, 89): 0,\n",
    "    (89, 74): 2,\n",
    "    (91, 79): 2,\n",
    "    (91, 98): 0,\n",
    "    (92, 83): 2,\n",
    "    (94, 90): 1,\n",
    "    (94, 95): 0,\n",
    "    (96, 95): 1,\n",
    "    (96, 97): 0,\n",
    "    (97, 98): 1,\n",
    "    (98, 99): 2,\n",
    "}"
   ]
  },
  {
   "cell_type": "code",
   "execution_count": null,
   "metadata": {},
   "outputs": [],
   "source": [
    "# edge_coloring. If the second element is smalller than first element, swap them.\n",
    "edge_coloring = {tuple(sorted(k)): v for k, v in edge_coloring.items()}"
   ]
  },
  {
   "cell_type": "markdown",
   "metadata": {},
   "source": [
    "### 最適化した量子回路の作成"
   ]
  },
  {
   "cell_type": "code",
   "execution_count": null,
   "metadata": {},
   "outputs": [],
   "source": [
    "qaoa_circ = create_qaoa_swap_circuit(\n",
    "    remapped_cost_operator, swap_strategy, edge_coloring=edge_coloring, qaoa_layers=1\n",
    ")"
   ]
  },
  {
   "cell_type": "markdown",
   "metadata": {},
   "source": [
    "最適化なしの量子回路"
   ]
  },
  {
   "cell_type": "code",
   "execution_count": null,
   "metadata": {},
   "outputs": [],
   "source": [
    "candidate_circuit_100.draw(\"mpl\", fold=False, scale=0.1, idle_wires=False)"
   ]
  },
  {
   "cell_type": "markdown",
   "metadata": {},
   "source": [
    "最適化ありの量子回路"
   ]
  },
  {
   "cell_type": "code",
   "execution_count": null,
   "metadata": {},
   "outputs": [],
   "source": [
    "pm = generate_preset_pass_manager(optimization_level=3, backend=backend)\n",
    "\n",
    "transpiled_qaoa_circ = pm.run(qaoa_circ)\n",
    "transpiled_qaoa_circ.draw(\"mpl\", fold=False, scale=0.1, idle_wires=False)"
   ]
  },
  {
   "cell_type": "code",
   "execution_count": null,
   "metadata": {},
   "outputs": [],
   "source": [
    "print(\"量子回路の深さ\")\n",
    "print(\"最適化なし\", candidate_circuit_100.depth())\n",
    "print(\"最適化あり\", transpiled_qaoa_circ.depth())"
   ]
  },
  {
   "cell_type": "markdown",
   "metadata": {},
   "source": [
    "回路がの深さが最適化前と比べるとだいぶ小さくなりましたね。\n",
    "\n",
    "## 実機での実験\n",
    "\n",
    "今回は事前に計算したパラメーターを用いて量子回路を実行してみます。実行には時間がかかるのでjob_idを取得して、後で結果を確認します。"
   ]
  },
  {
   "cell_type": "code",
   "execution_count": null,
   "metadata": {},
   "outputs": [],
   "source": [
    "from qiskit_ibm_runtime import Session\n",
    "\n",
    "\n",
    "# 事前に計算したパラメーター\n",
    "init_params = [4.303, 2.765]\n",
    "\n",
    "\n",
    "sampler = Sampler(mode=backend)\n",
    "# Set error suppression/mitigation options\n",
    "sampler.options.dynamical_decoupling.enable = True\n",
    "sampler.options.dynamical_decoupling.sequence_type = \"XY4\"\n",
    "sampler.options.twirling.enable_gates = True\n",
    "sampler.options.twirling.num_randomizations = \"auto\"\n",
    "sampler.options.twirling.enable_measure = True\n",
    "\n",
    "\n",
    "job = sampler.run([(transpiled_qaoa_circ, init_params)])\n",
    "job_id = job.job_id()\n",
    "print(job_id)\n"
   ]
  },
  {
   "cell_type": "markdown",
   "metadata": {},
   "source": [
    "job_idを使って実験結果を取得します。"
   ]
  },
  {
   "cell_type": "code",
   "execution_count": null,
   "metadata": {},
   "outputs": [],
   "source": [
    "service = QiskitRuntimeService()\n",
    "job = service.job(job_id)\n",
    "print(job.status())"
   ]
  },
  {
   "cell_type": "markdown",
   "metadata": {},
   "source": [
    "実機にはエラーがあったり、確率的なばらつきがあるので、このノートブックと結果が違っていても問題ありません。"
   ]
  },
  {
   "cell_type": "code",
   "execution_count": null,
   "metadata": {},
   "outputs": [],
   "source": [
    "sampler_result = job.result()\n",
    "sampled_int_counts = sampler_result[0].data.c.get_int_counts()\n",
    "shots = sum(sampled_int_counts.values())\n",
    "int_count_distribution = {\n",
    "    key: val / shots for key, val in sampled_int_counts.items()\n",
    "}\n",
    "# a dictionary containing: {state: (measurement probability, value)}\n",
    "evaluated = {\n",
    "    state: (probability, np.real(evaluate_sparse_pauli(state, remapped_cost_operator)))\n",
    "    for state, probability in int_count_distribution.items()\n",
    "}\n",
    "\n",
    "result = sum(probability * value for probability, value in evaluated.values())\n",
    "print(result)"
   ]
  },
  {
   "cell_type": "code",
   "execution_count": null,
   "metadata": {},
   "outputs": [],
   "source": [
    "sorted_evaluated = sorted(\n",
    "    evaluated.items(), key=lambda x: x[1][1]\n",
    ")\n",
    "print(sorted_evaluated[0])\n",
    "state = sorted_evaluated[0][0]\n",
    "state_bin = format(state, \"0100b\")"
   ]
  },
  {
   "cell_type": "code",
   "execution_count": null,
   "metadata": {},
   "outputs": [],
   "source": [
    "edges = calc_edges(state_bin[::-1], remapped_cost_operator)\n",
    "print(len(edges), edges)"
   ]
  },
  {
   "cell_type": "code",
   "execution_count": null,
   "metadata": {},
   "outputs": [],
   "source": [
    "#save the result\n",
    "import json\n",
    "\n",
    "with open(\"result.json\", \"w\") as f:\n",
    "    json.dump(result_dict, f, indent=4)\n"
   ]
  },
  {
   "cell_type": "markdown",
   "metadata": {},
   "source": [
    "結果を表示してみましょう。"
   ]
  },
  {
   "cell_type": "code",
   "execution_count": null,
   "metadata": {},
   "outputs": [],
   "source": [
    "node_color = [\n",
    "    \"salmon\" if int(state_bin[::-1][node]) else \"deepskyblue\" for node in remapped_graph.nodes\n",
    "]\n",
    "nx.draw(\n",
    "    remapped_graph,\n",
    "    with_labels=True,\n",
    "    node_size=200,\n",
    "    node_color=node_color,\n",
    "    pos=nx.kamada_kawai_layout(remapped_graph),\n",
    ")"
   ]
  },
  {
   "cell_type": "markdown",
   "metadata": {},
   "source": [
    "## まとめ\n",
    "今回は、QAOAという量子最適化のアルゴリズムを使ってMAXCUT問題を解いてみました。\n",
    "実際の量子コンピューターを使って100量子ビットの計算をすることができました。\n",
    "\n",
    "100量子ビットの計算は現在のスーパーコンピューターでもシミュレートすることは出来ず、量子コンピューターのみで実行することができます。\n",
    "量子ユーティリティー時代では、今回学んだような量子最適化アルゴリズムを使って、様々な難しい問題を解いていくことが期待されます。"
   ]
  },
  {
   "cell_type": "markdown",
   "metadata": {},
   "source": [
    "### 付録"
   ]
  },
  {
   "cell_type": "markdown",
   "metadata": {},
   "source": [
    "100量子ビットの場合でも同様にQAOAの繰り返し実行を行い、最適なパラメーターを求めることができます。\n",
    "長いと一晩くらいかかる可能性がありますが、時間がある人はやってみてください。"
   ]
  },
  {
   "cell_type": "code",
   "execution_count": null,
   "metadata": {},
   "outputs": [],
   "source": [
    "def cost_func_sampler(params, ansatz, hamiltonian, sampler):\n",
    "    job = sampler.run([(ansatz, params)])\n",
    "    sampler_result = job.result()\n",
    "    sampled_int_counts = sampler_result[0].data.c.get_int_counts()\n",
    "    shots = sum(sampled_int_counts.values())\n",
    "    int_count_distribution = {\n",
    "        key: val / shots for key, val in sampled_int_counts.items()\n",
    "    }\n",
    "\n",
    "    # a dictionary containing: {state: (measurement probability, value)}\n",
    "    evaluated = {\n",
    "        state: (probability, np.real(evaluate_sparse_pauli(state, hamiltonian)))\n",
    "        for state, probability in int_count_distribution.items()\n",
    "    }\n",
    "\n",
    "    result = sum(probability * value for probability, value in evaluated.values())\n",
    "\n",
    "    global iter_counts, result_dict\n",
    "    iter_counts += 1\n",
    "    temp_dict = {}\n",
    "    temp_dict[\"params\"] = params.tolist()\n",
    "    temp_dict[\"fval\"] = result\n",
    "    temp_dict[\"distribution\"] = sampled_int_counts\n",
    "    temp_dict[\"evaluated\"] = evaluated\n",
    "    result_dict[iter_counts] = temp_dict\n",
    "    print(f\"Iteration {iter_counts}: {result}\")\n",
    "\n",
    "    return result"
   ]
  },
  {
   "cell_type": "code",
   "execution_count": null,
   "metadata": {},
   "outputs": [],
   "source": [
    "iter_counts = 0\n",
    "result_dict = {}\n",
    "init_params = [np.pi, np.pi / 2]\n",
    "\n",
    "\n",
    "with Session(backend=backend) as session:\n",
    "    sampler = Sampler(mode=session)\n",
    "\n",
    "    shots = 10000\n",
    "\n",
    "    # Set error suppression/mitigation options\n",
    "    sampler.options.dynamical_decoupling.enable = True\n",
    "    sampler.options.dynamical_decoupling.sequence_type = \"XY4\"\n",
    "    sampler.options.twirling.enable_gates = True\n",
    "    sampler.options.twirling.num_randomizations = \"auto\"\n",
    "    sampler.options.twirling.enable_measure = True\n",
    "\n",
    "    # Run optimization loop\n",
    "    result = minimize(\n",
    "        cost_func_sampler,\n",
    "        init_params,\n",
    "        args=(\n",
    "            transpiled_qaoa_circ,\n",
    "            remapped_cost_operator,\n",
    "            sampler\n",
    "        ),\n",
    "        method=\"COBYLA\",\n",
    "        tol=1e-2,\n",
    "    )\n",
    "print(result)"
   ]
  },
  {
   "cell_type": "code",
   "execution_count": null,
   "metadata": {},
   "outputs": [],
   "source": [
    "#save the result\n",
    "import json\n",
    "\n",
    "with open(\"result2.json\", \"w\") as f:\n",
    "    json.dump(result_dict, f, indent=4)\n"
   ]
  },
  {
   "cell_type": "code",
   "execution_count": null,
   "metadata": {},
   "outputs": [],
   "source": [
    "plt.plot([result_dict[i][\"fval\"] for i in result_dict])\n",
    "plt.xlabel(\"Iterations\")\n",
    "plt.ylabel(\"Cost function value\")\n",
    "plt.title(\"QAOA optimization\")\n",
    "plt.show()"
   ]
  },
  {
   "cell_type": "code",
   "execution_count": null,
   "metadata": {},
   "outputs": [],
   "source": []
  }
 ],
 "metadata": {
  "kernelspec": {
   "display_name": "Python 3 (ipykernel)",
   "language": "python",
   "name": "python3"
  },
  "language_info": {
   "codemirror_mode": {
    "name": "ipython",
    "version": 3
   },
   "file_extension": ".py",
   "mimetype": "text/x-python",
   "name": "python",
   "nbconvert_exporter": "python",
   "pygments_lexer": "ipython3",
   "version": "3.11.8"
  }
 },
 "nbformat": 4,
 "nbformat_minor": 4
}
